{
 "cells": [
  {
   "cell_type": "markdown",
   "id": "d41082dd",
   "metadata": {
    "papermill": {
     "duration": 0.012793,
     "end_time": "2025-04-10T10:34:30.121365",
     "exception": false,
     "start_time": "2025-04-10T10:34:30.108572",
     "status": "completed"
    },
    "tags": []
   },
   "source": [
    "<div style=\"border-radius:10px; border:black solid; padding: 15px; background-color: Green; font-size:100%; text-align:left\">\n",
    "<p style=\"font-family:Georgia; font-weight:bold; letter-spacing: 2px; color:white; font-size:200%; text-align:center;padding: 0px;\"> Banking Churn Analysis & Modelling</p></div>"
   ]
  },
  {
   "cell_type": "markdown",
   "id": "7939772c",
   "metadata": {
    "papermill": {
     "duration": 0.011865,
     "end_time": "2025-04-10T10:34:30.146153",
     "exception": false,
     "start_time": "2025-04-10T10:34:30.134288",
     "status": "completed"
    },
    "tags": []
   },
   "source": [
    "<div align=\"center\">\n",
    "  <img src=\"https://m.economictimes.com/thumb/msid-100281493,width-1200,height-900,resizemode-4,imgsize-14062/banks-request-rbi-for-more-time-for-new-loan-provisioning-system.jpg\" alt=\"Image Description\" width=\"300\" height=\"200\">\n",
    "</div>"
   ]
  },
  {
   "cell_type": "markdown",
   "id": "eb3a6a6e",
   "metadata": {
    "papermill": {
     "duration": 0.013051,
     "end_time": "2025-04-10T10:34:30.172810",
     "exception": false,
     "start_time": "2025-04-10T10:34:30.159759",
     "status": "completed"
    },
    "tags": []
   },
   "source": [
    "<div style=\"border-radius:10px; border:#808080 solid; padding: 15px; background-color: ##F0E68C ; font-size:100%; text-align:left\">\n",
    "\n",
    "<h3 align=\"left\"><font color=brown>📊 Business Objective:</font></h3>\n",
    "   \n",
    "- The goal would be to identify which customers are most likely to churn (leave the service) and understand the key factors driving their decision to leave. `Churn Reduction through Predictive Analytics`\n",
    "- Churn refers to the process by which a customer stops doing business with a company.\n",
    "\n",
    "<h3 align=\"left\"><font color=brown>📊 Business Value:</font></h3>\n",
    "- Customer retention is critical for a bank’s profitability. Predicting which customers are likely to churn can help the bank take proactive steps (e.g., offering personalized services or incentives) to retain valuable customers."
   ]
  },
  {
   "cell_type": "code",
   "execution_count": 1,
   "id": "d083b1d3",
   "metadata": {
    "_cell_guid": "b1076dfc-b9ad-4769-8c92-a6c4dae69d19",
    "_uuid": "8f2839f25d086af736a60e9eeb907d3b93b6e0e5",
    "execution": {
     "iopub.execute_input": "2025-04-10T10:34:30.210616Z",
     "iopub.status.busy": "2025-04-10T10:34:30.209950Z",
     "iopub.status.idle": "2025-04-10T10:34:34.184535Z",
     "shell.execute_reply": "2025-04-10T10:34:34.183057Z"
    },
    "papermill": {
     "duration": 3.997719,
     "end_time": "2025-04-10T10:34:34.186598",
     "exception": false,
     "start_time": "2025-04-10T10:34:30.188879",
     "status": "completed"
    },
    "tags": []
   },
   "outputs": [],
   "source": [
    "import pandas as pd\n",
    "import numpy as np\n",
    "import matplotlib.pyplot as plt\n",
    "import seaborn as sns\n",
    "import plotly.express as px\n",
    "from plotly.offline import iplot\n",
    "from plotly.subplots import make_subplots as sp\n",
    "\n",
    "import warnings\n",
    "warnings.filterwarnings(\"ignore\")"
   ]
  },
  {
   "cell_type": "markdown",
   "id": "20f6f50e",
   "metadata": {
    "papermill": {
     "duration": 0.013245,
     "end_time": "2025-04-10T10:34:34.213024",
     "exception": false,
     "start_time": "2025-04-10T10:34:34.199779",
     "status": "completed"
    },
    "tags": []
   },
   "source": [
    "# **Data Representation**"
   ]
  },
  {
   "cell_type": "code",
   "execution_count": 2,
   "id": "15d7b864",
   "metadata": {
    "execution": {
     "iopub.execute_input": "2025-04-10T10:34:34.238908Z",
     "iopub.status.busy": "2025-04-10T10:34:34.238223Z",
     "iopub.status.idle": "2025-04-10T10:34:34.284129Z",
     "shell.execute_reply": "2025-04-10T10:34:34.283093Z"
    },
    "papermill": {
     "duration": 0.061029,
     "end_time": "2025-04-10T10:34:34.286085",
     "exception": false,
     "start_time": "2025-04-10T10:34:34.225056",
     "status": "completed"
    },
    "tags": []
   },
   "outputs": [],
   "source": [
    "df = pd.read_csv('/kaggle/input/churn-modelling/Churn_Modelling.csv')"
   ]
  },
  {
   "cell_type": "code",
   "execution_count": 3,
   "id": "69ed5773",
   "metadata": {
    "execution": {
     "iopub.execute_input": "2025-04-10T10:34:34.311751Z",
     "iopub.status.busy": "2025-04-10T10:34:34.311341Z",
     "iopub.status.idle": "2025-04-10T10:34:34.344065Z",
     "shell.execute_reply": "2025-04-10T10:34:34.342954Z"
    },
    "papermill": {
     "duration": 0.047622,
     "end_time": "2025-04-10T10:34:34.345803",
     "exception": false,
     "start_time": "2025-04-10T10:34:34.298181",
     "status": "completed"
    },
    "tags": []
   },
   "outputs": [
    {
     "data": {
      "text/html": [
       "<div>\n",
       "<style scoped>\n",
       "    .dataframe tbody tr th:only-of-type {\n",
       "        vertical-align: middle;\n",
       "    }\n",
       "\n",
       "    .dataframe tbody tr th {\n",
       "        vertical-align: top;\n",
       "    }\n",
       "\n",
       "    .dataframe thead th {\n",
       "        text-align: right;\n",
       "    }\n",
       "</style>\n",
       "<table border=\"1\" class=\"dataframe\">\n",
       "  <thead>\n",
       "    <tr style=\"text-align: right;\">\n",
       "      <th></th>\n",
       "      <th>RowNumber</th>\n",
       "      <th>CustomerId</th>\n",
       "      <th>Surname</th>\n",
       "      <th>CreditScore</th>\n",
       "      <th>Geography</th>\n",
       "      <th>Gender</th>\n",
       "      <th>Age</th>\n",
       "      <th>Tenure</th>\n",
       "      <th>Balance</th>\n",
       "      <th>NumOfProducts</th>\n",
       "      <th>HasCrCard</th>\n",
       "      <th>IsActiveMember</th>\n",
       "      <th>EstimatedSalary</th>\n",
       "      <th>Exited</th>\n",
       "    </tr>\n",
       "  </thead>\n",
       "  <tbody>\n",
       "    <tr>\n",
       "      <th>0</th>\n",
       "      <td>1</td>\n",
       "      <td>15634602</td>\n",
       "      <td>Hargrave</td>\n",
       "      <td>619</td>\n",
       "      <td>France</td>\n",
       "      <td>Female</td>\n",
       "      <td>42</td>\n",
       "      <td>2</td>\n",
       "      <td>0.00</td>\n",
       "      <td>1</td>\n",
       "      <td>1</td>\n",
       "      <td>1</td>\n",
       "      <td>101348.88</td>\n",
       "      <td>1</td>\n",
       "    </tr>\n",
       "    <tr>\n",
       "      <th>1</th>\n",
       "      <td>2</td>\n",
       "      <td>15647311</td>\n",
       "      <td>Hill</td>\n",
       "      <td>608</td>\n",
       "      <td>Spain</td>\n",
       "      <td>Female</td>\n",
       "      <td>41</td>\n",
       "      <td>1</td>\n",
       "      <td>83807.86</td>\n",
       "      <td>1</td>\n",
       "      <td>0</td>\n",
       "      <td>1</td>\n",
       "      <td>112542.58</td>\n",
       "      <td>0</td>\n",
       "    </tr>\n",
       "    <tr>\n",
       "      <th>2</th>\n",
       "      <td>3</td>\n",
       "      <td>15619304</td>\n",
       "      <td>Onio</td>\n",
       "      <td>502</td>\n",
       "      <td>France</td>\n",
       "      <td>Female</td>\n",
       "      <td>42</td>\n",
       "      <td>8</td>\n",
       "      <td>159660.80</td>\n",
       "      <td>3</td>\n",
       "      <td>1</td>\n",
       "      <td>0</td>\n",
       "      <td>113931.57</td>\n",
       "      <td>1</td>\n",
       "    </tr>\n",
       "    <tr>\n",
       "      <th>3</th>\n",
       "      <td>4</td>\n",
       "      <td>15701354</td>\n",
       "      <td>Boni</td>\n",
       "      <td>699</td>\n",
       "      <td>France</td>\n",
       "      <td>Female</td>\n",
       "      <td>39</td>\n",
       "      <td>1</td>\n",
       "      <td>0.00</td>\n",
       "      <td>2</td>\n",
       "      <td>0</td>\n",
       "      <td>0</td>\n",
       "      <td>93826.63</td>\n",
       "      <td>0</td>\n",
       "    </tr>\n",
       "    <tr>\n",
       "      <th>4</th>\n",
       "      <td>5</td>\n",
       "      <td>15737888</td>\n",
       "      <td>Mitchell</td>\n",
       "      <td>850</td>\n",
       "      <td>Spain</td>\n",
       "      <td>Female</td>\n",
       "      <td>43</td>\n",
       "      <td>2</td>\n",
       "      <td>125510.82</td>\n",
       "      <td>1</td>\n",
       "      <td>1</td>\n",
       "      <td>1</td>\n",
       "      <td>79084.10</td>\n",
       "      <td>0</td>\n",
       "    </tr>\n",
       "    <tr>\n",
       "      <th>5</th>\n",
       "      <td>6</td>\n",
       "      <td>15574012</td>\n",
       "      <td>Chu</td>\n",
       "      <td>645</td>\n",
       "      <td>Spain</td>\n",
       "      <td>Male</td>\n",
       "      <td>44</td>\n",
       "      <td>8</td>\n",
       "      <td>113755.78</td>\n",
       "      <td>2</td>\n",
       "      <td>1</td>\n",
       "      <td>0</td>\n",
       "      <td>149756.71</td>\n",
       "      <td>1</td>\n",
       "    </tr>\n",
       "    <tr>\n",
       "      <th>6</th>\n",
       "      <td>7</td>\n",
       "      <td>15592531</td>\n",
       "      <td>Bartlett</td>\n",
       "      <td>822</td>\n",
       "      <td>France</td>\n",
       "      <td>Male</td>\n",
       "      <td>50</td>\n",
       "      <td>7</td>\n",
       "      <td>0.00</td>\n",
       "      <td>2</td>\n",
       "      <td>1</td>\n",
       "      <td>1</td>\n",
       "      <td>10062.80</td>\n",
       "      <td>0</td>\n",
       "    </tr>\n",
       "    <tr>\n",
       "      <th>7</th>\n",
       "      <td>8</td>\n",
       "      <td>15656148</td>\n",
       "      <td>Obinna</td>\n",
       "      <td>376</td>\n",
       "      <td>Germany</td>\n",
       "      <td>Female</td>\n",
       "      <td>29</td>\n",
       "      <td>4</td>\n",
       "      <td>115046.74</td>\n",
       "      <td>4</td>\n",
       "      <td>1</td>\n",
       "      <td>0</td>\n",
       "      <td>119346.88</td>\n",
       "      <td>1</td>\n",
       "    </tr>\n",
       "    <tr>\n",
       "      <th>8</th>\n",
       "      <td>9</td>\n",
       "      <td>15792365</td>\n",
       "      <td>He</td>\n",
       "      <td>501</td>\n",
       "      <td>France</td>\n",
       "      <td>Male</td>\n",
       "      <td>44</td>\n",
       "      <td>4</td>\n",
       "      <td>142051.07</td>\n",
       "      <td>2</td>\n",
       "      <td>0</td>\n",
       "      <td>1</td>\n",
       "      <td>74940.50</td>\n",
       "      <td>0</td>\n",
       "    </tr>\n",
       "    <tr>\n",
       "      <th>9</th>\n",
       "      <td>10</td>\n",
       "      <td>15592389</td>\n",
       "      <td>H?</td>\n",
       "      <td>684</td>\n",
       "      <td>France</td>\n",
       "      <td>Male</td>\n",
       "      <td>27</td>\n",
       "      <td>2</td>\n",
       "      <td>134603.88</td>\n",
       "      <td>1</td>\n",
       "      <td>1</td>\n",
       "      <td>1</td>\n",
       "      <td>71725.73</td>\n",
       "      <td>0</td>\n",
       "    </tr>\n",
       "  </tbody>\n",
       "</table>\n",
       "</div>"
      ],
      "text/plain": [
       "   RowNumber  CustomerId   Surname  CreditScore Geography  Gender  Age  \\\n",
       "0          1    15634602  Hargrave          619    France  Female   42   \n",
       "1          2    15647311      Hill          608     Spain  Female   41   \n",
       "2          3    15619304      Onio          502    France  Female   42   \n",
       "3          4    15701354      Boni          699    France  Female   39   \n",
       "4          5    15737888  Mitchell          850     Spain  Female   43   \n",
       "5          6    15574012       Chu          645     Spain    Male   44   \n",
       "6          7    15592531  Bartlett          822    France    Male   50   \n",
       "7          8    15656148    Obinna          376   Germany  Female   29   \n",
       "8          9    15792365        He          501    France    Male   44   \n",
       "9         10    15592389        H?          684    France    Male   27   \n",
       "\n",
       "   Tenure    Balance  NumOfProducts  HasCrCard  IsActiveMember  \\\n",
       "0       2       0.00              1          1               1   \n",
       "1       1   83807.86              1          0               1   \n",
       "2       8  159660.80              3          1               0   \n",
       "3       1       0.00              2          0               0   \n",
       "4       2  125510.82              1          1               1   \n",
       "5       8  113755.78              2          1               0   \n",
       "6       7       0.00              2          1               1   \n",
       "7       4  115046.74              4          1               0   \n",
       "8       4  142051.07              2          0               1   \n",
       "9       2  134603.88              1          1               1   \n",
       "\n",
       "   EstimatedSalary  Exited  \n",
       "0        101348.88       1  \n",
       "1        112542.58       0  \n",
       "2        113931.57       1  \n",
       "3         93826.63       0  \n",
       "4         79084.10       0  \n",
       "5        149756.71       1  \n",
       "6         10062.80       0  \n",
       "7        119346.88       1  \n",
       "8         74940.50       0  \n",
       "9         71725.73       0  "
      ]
     },
     "execution_count": 3,
     "metadata": {},
     "output_type": "execute_result"
    }
   ],
   "source": [
    "df.head(10)"
   ]
  },
  {
   "cell_type": "markdown",
   "id": "eaf288d4",
   "metadata": {
    "papermill": {
     "duration": 0.012043,
     "end_time": "2025-04-10T10:34:34.370379",
     "exception": false,
     "start_time": "2025-04-10T10:34:34.358336",
     "status": "completed"
    },
    "tags": []
   },
   "source": [
    "* **RowNumber**: Index of the row.\n",
    "* **CustomerId**: Unique identifier for each customer.\n",
    "* **Surname**: Customer's last name (may not be very useful for analysis).\n",
    "* **CreditScore**: The credit score of the customer [300 : 850].\n",
    "    - Poor credit: 300 to 579.\n",
    "    - Fair credit: 580 to 669.\n",
    "    - Good credit: 670 to 739.\n",
    "    - Very good credit: 740 to 799.\n",
    "    - Excellent credit: 800 to 850.\n",
    "* **Geography**: Country of the customer (e.g., France, Spain).\n",
    "* **Gender**: Gender of the customer (e.g., Male, Female).\n",
    "* **Age**: Age of the customer.\n",
    "* **Tenure**: Number of years the customer has been with the bank.\n",
    "* **Balance**: Account balance of the customer.\n",
    "* **NumOfProducts**: Number of products the customer has purchased.\n",
    "* **HasCrCard**: Whether the customer has a credit card (1 = Yes, 0 = No).\n",
    "* **IsActiveMember**: Whether the customer is an active member (1 = Yes, 0 = No).\n",
    "* **EstimatedSalary**: Estimated annual salary of the customer.\n",
    "* **Exited**: Whether the customer left the bank (1 = Yes, 0 = No) — this is likely the target for churn prediction.\n"
   ]
  },
  {
   "cell_type": "code",
   "execution_count": 4,
   "id": "9560e5f3",
   "metadata": {
    "execution": {
     "iopub.execute_input": "2025-04-10T10:34:34.396118Z",
     "iopub.status.busy": "2025-04-10T10:34:34.395759Z",
     "iopub.status.idle": "2025-04-10T10:34:34.427236Z",
     "shell.execute_reply": "2025-04-10T10:34:34.425743Z"
    },
    "papermill": {
     "duration": 0.046902,
     "end_time": "2025-04-10T10:34:34.429459",
     "exception": false,
     "start_time": "2025-04-10T10:34:34.382557",
     "status": "completed"
    },
    "tags": []
   },
   "outputs": [
    {
     "name": "stdout",
     "output_type": "stream",
     "text": [
      "<class 'pandas.core.frame.DataFrame'>\n",
      "RangeIndex: 10000 entries, 0 to 9999\n",
      "Data columns (total 14 columns):\n",
      " #   Column           Non-Null Count  Dtype  \n",
      "---  ------           --------------  -----  \n",
      " 0   RowNumber        10000 non-null  int64  \n",
      " 1   CustomerId       10000 non-null  int64  \n",
      " 2   Surname          10000 non-null  object \n",
      " 3   CreditScore      10000 non-null  int64  \n",
      " 4   Geography        10000 non-null  object \n",
      " 5   Gender           10000 non-null  object \n",
      " 6   Age              10000 non-null  int64  \n",
      " 7   Tenure           10000 non-null  int64  \n",
      " 8   Balance          10000 non-null  float64\n",
      " 9   NumOfProducts    10000 non-null  int64  \n",
      " 10  HasCrCard        10000 non-null  int64  \n",
      " 11  IsActiveMember   10000 non-null  int64  \n",
      " 12  EstimatedSalary  10000 non-null  float64\n",
      " 13  Exited           10000 non-null  int64  \n",
      "dtypes: float64(2), int64(9), object(3)\n",
      "memory usage: 1.1+ MB\n"
     ]
    }
   ],
   "source": [
    "df.info()"
   ]
  },
  {
   "cell_type": "code",
   "execution_count": 5,
   "id": "6261afdc",
   "metadata": {
    "execution": {
     "iopub.execute_input": "2025-04-10T10:34:34.456839Z",
     "iopub.status.busy": "2025-04-10T10:34:34.456470Z",
     "iopub.status.idle": "2025-04-10T10:34:34.498087Z",
     "shell.execute_reply": "2025-04-10T10:34:34.496919Z"
    },
    "papermill": {
     "duration": 0.05778,
     "end_time": "2025-04-10T10:34:34.499820",
     "exception": false,
     "start_time": "2025-04-10T10:34:34.442040",
     "status": "completed"
    },
    "tags": []
   },
   "outputs": [
    {
     "data": {
      "text/html": [
       "<div>\n",
       "<style scoped>\n",
       "    .dataframe tbody tr th:only-of-type {\n",
       "        vertical-align: middle;\n",
       "    }\n",
       "\n",
       "    .dataframe tbody tr th {\n",
       "        vertical-align: top;\n",
       "    }\n",
       "\n",
       "    .dataframe thead th {\n",
       "        text-align: right;\n",
       "    }\n",
       "</style>\n",
       "<table border=\"1\" class=\"dataframe\">\n",
       "  <thead>\n",
       "    <tr style=\"text-align: right;\">\n",
       "      <th></th>\n",
       "      <th>RowNumber</th>\n",
       "      <th>CustomerId</th>\n",
       "      <th>CreditScore</th>\n",
       "      <th>Age</th>\n",
       "      <th>Tenure</th>\n",
       "      <th>Balance</th>\n",
       "      <th>NumOfProducts</th>\n",
       "      <th>HasCrCard</th>\n",
       "      <th>IsActiveMember</th>\n",
       "      <th>EstimatedSalary</th>\n",
       "      <th>Exited</th>\n",
       "    </tr>\n",
       "  </thead>\n",
       "  <tbody>\n",
       "    <tr>\n",
       "      <th>count</th>\n",
       "      <td>10000.00000</td>\n",
       "      <td>1.000000e+04</td>\n",
       "      <td>10000.000000</td>\n",
       "      <td>10000.000000</td>\n",
       "      <td>10000.000000</td>\n",
       "      <td>10000.000000</td>\n",
       "      <td>10000.000000</td>\n",
       "      <td>10000.00000</td>\n",
       "      <td>10000.000000</td>\n",
       "      <td>10000.000000</td>\n",
       "      <td>10000.000000</td>\n",
       "    </tr>\n",
       "    <tr>\n",
       "      <th>mean</th>\n",
       "      <td>5000.50000</td>\n",
       "      <td>1.569094e+07</td>\n",
       "      <td>650.528800</td>\n",
       "      <td>38.921800</td>\n",
       "      <td>5.012800</td>\n",
       "      <td>76485.889288</td>\n",
       "      <td>1.530200</td>\n",
       "      <td>0.70550</td>\n",
       "      <td>0.515100</td>\n",
       "      <td>100090.239881</td>\n",
       "      <td>0.203700</td>\n",
       "    </tr>\n",
       "    <tr>\n",
       "      <th>std</th>\n",
       "      <td>2886.89568</td>\n",
       "      <td>7.193619e+04</td>\n",
       "      <td>96.653299</td>\n",
       "      <td>10.487806</td>\n",
       "      <td>2.892174</td>\n",
       "      <td>62397.405202</td>\n",
       "      <td>0.581654</td>\n",
       "      <td>0.45584</td>\n",
       "      <td>0.499797</td>\n",
       "      <td>57510.492818</td>\n",
       "      <td>0.402769</td>\n",
       "    </tr>\n",
       "    <tr>\n",
       "      <th>min</th>\n",
       "      <td>1.00000</td>\n",
       "      <td>1.556570e+07</td>\n",
       "      <td>350.000000</td>\n",
       "      <td>18.000000</td>\n",
       "      <td>0.000000</td>\n",
       "      <td>0.000000</td>\n",
       "      <td>1.000000</td>\n",
       "      <td>0.00000</td>\n",
       "      <td>0.000000</td>\n",
       "      <td>11.580000</td>\n",
       "      <td>0.000000</td>\n",
       "    </tr>\n",
       "    <tr>\n",
       "      <th>25%</th>\n",
       "      <td>2500.75000</td>\n",
       "      <td>1.562853e+07</td>\n",
       "      <td>584.000000</td>\n",
       "      <td>32.000000</td>\n",
       "      <td>3.000000</td>\n",
       "      <td>0.000000</td>\n",
       "      <td>1.000000</td>\n",
       "      <td>0.00000</td>\n",
       "      <td>0.000000</td>\n",
       "      <td>51002.110000</td>\n",
       "      <td>0.000000</td>\n",
       "    </tr>\n",
       "    <tr>\n",
       "      <th>50%</th>\n",
       "      <td>5000.50000</td>\n",
       "      <td>1.569074e+07</td>\n",
       "      <td>652.000000</td>\n",
       "      <td>37.000000</td>\n",
       "      <td>5.000000</td>\n",
       "      <td>97198.540000</td>\n",
       "      <td>1.000000</td>\n",
       "      <td>1.00000</td>\n",
       "      <td>1.000000</td>\n",
       "      <td>100193.915000</td>\n",
       "      <td>0.000000</td>\n",
       "    </tr>\n",
       "    <tr>\n",
       "      <th>75%</th>\n",
       "      <td>7500.25000</td>\n",
       "      <td>1.575323e+07</td>\n",
       "      <td>718.000000</td>\n",
       "      <td>44.000000</td>\n",
       "      <td>7.000000</td>\n",
       "      <td>127644.240000</td>\n",
       "      <td>2.000000</td>\n",
       "      <td>1.00000</td>\n",
       "      <td>1.000000</td>\n",
       "      <td>149388.247500</td>\n",
       "      <td>0.000000</td>\n",
       "    </tr>\n",
       "    <tr>\n",
       "      <th>max</th>\n",
       "      <td>10000.00000</td>\n",
       "      <td>1.581569e+07</td>\n",
       "      <td>850.000000</td>\n",
       "      <td>92.000000</td>\n",
       "      <td>10.000000</td>\n",
       "      <td>250898.090000</td>\n",
       "      <td>4.000000</td>\n",
       "      <td>1.00000</td>\n",
       "      <td>1.000000</td>\n",
       "      <td>199992.480000</td>\n",
       "      <td>1.000000</td>\n",
       "    </tr>\n",
       "  </tbody>\n",
       "</table>\n",
       "</div>"
      ],
      "text/plain": [
       "         RowNumber    CustomerId   CreditScore           Age        Tenure  \\\n",
       "count  10000.00000  1.000000e+04  10000.000000  10000.000000  10000.000000   \n",
       "mean    5000.50000  1.569094e+07    650.528800     38.921800      5.012800   \n",
       "std     2886.89568  7.193619e+04     96.653299     10.487806      2.892174   \n",
       "min        1.00000  1.556570e+07    350.000000     18.000000      0.000000   \n",
       "25%     2500.75000  1.562853e+07    584.000000     32.000000      3.000000   \n",
       "50%     5000.50000  1.569074e+07    652.000000     37.000000      5.000000   \n",
       "75%     7500.25000  1.575323e+07    718.000000     44.000000      7.000000   \n",
       "max    10000.00000  1.581569e+07    850.000000     92.000000     10.000000   \n",
       "\n",
       "             Balance  NumOfProducts    HasCrCard  IsActiveMember  \\\n",
       "count   10000.000000   10000.000000  10000.00000    10000.000000   \n",
       "mean    76485.889288       1.530200      0.70550        0.515100   \n",
       "std     62397.405202       0.581654      0.45584        0.499797   \n",
       "min         0.000000       1.000000      0.00000        0.000000   \n",
       "25%         0.000000       1.000000      0.00000        0.000000   \n",
       "50%     97198.540000       1.000000      1.00000        1.000000   \n",
       "75%    127644.240000       2.000000      1.00000        1.000000   \n",
       "max    250898.090000       4.000000      1.00000        1.000000   \n",
       "\n",
       "       EstimatedSalary        Exited  \n",
       "count     10000.000000  10000.000000  \n",
       "mean     100090.239881      0.203700  \n",
       "std       57510.492818      0.402769  \n",
       "min          11.580000      0.000000  \n",
       "25%       51002.110000      0.000000  \n",
       "50%      100193.915000      0.000000  \n",
       "75%      149388.247500      0.000000  \n",
       "max      199992.480000      1.000000  "
      ]
     },
     "execution_count": 5,
     "metadata": {},
     "output_type": "execute_result"
    }
   ],
   "source": [
    "df.describe()"
   ]
  },
  {
   "cell_type": "markdown",
   "id": "1d97689c",
   "metadata": {
    "papermill": {
     "duration": 0.012433,
     "end_time": "2025-04-10T10:34:34.525034",
     "exception": false,
     "start_time": "2025-04-10T10:34:34.512601",
     "status": "completed"
    },
    "tags": []
   },
   "source": [
    "# **Data Wrangling**"
   ]
  },
  {
   "cell_type": "code",
   "execution_count": 6,
   "id": "82372304",
   "metadata": {
    "execution": {
     "iopub.execute_input": "2025-04-10T10:34:34.552498Z",
     "iopub.status.busy": "2025-04-10T10:34:34.552102Z",
     "iopub.status.idle": "2025-04-10T10:34:34.565271Z",
     "shell.execute_reply": "2025-04-10T10:34:34.564246Z"
    },
    "papermill": {
     "duration": 0.028986,
     "end_time": "2025-04-10T10:34:34.567122",
     "exception": false,
     "start_time": "2025-04-10T10:34:34.538136",
     "status": "completed"
    },
    "tags": []
   },
   "outputs": [
    {
     "data": {
      "text/plain": [
       "0"
      ]
     },
     "execution_count": 6,
     "metadata": {},
     "output_type": "execute_result"
    }
   ],
   "source": [
    "# Checking for duplicated values\n",
    "df.duplicated().sum()"
   ]
  },
  {
   "cell_type": "code",
   "execution_count": 7,
   "id": "be322ee7",
   "metadata": {
    "execution": {
     "iopub.execute_input": "2025-04-10T10:34:34.595334Z",
     "iopub.status.busy": "2025-04-10T10:34:34.594962Z",
     "iopub.status.idle": "2025-04-10T10:34:34.605056Z",
     "shell.execute_reply": "2025-04-10T10:34:34.603934Z"
    },
    "papermill": {
     "duration": 0.025924,
     "end_time": "2025-04-10T10:34:34.607011",
     "exception": false,
     "start_time": "2025-04-10T10:34:34.581087",
     "status": "completed"
    },
    "tags": []
   },
   "outputs": [
    {
     "data": {
      "text/plain": [
       "RowNumber          0\n",
       "CustomerId         0\n",
       "Surname            0\n",
       "CreditScore        0\n",
       "Geography          0\n",
       "Gender             0\n",
       "Age                0\n",
       "Tenure             0\n",
       "Balance            0\n",
       "NumOfProducts      0\n",
       "HasCrCard          0\n",
       "IsActiveMember     0\n",
       "EstimatedSalary    0\n",
       "Exited             0\n",
       "dtype: int64"
      ]
     },
     "execution_count": 7,
     "metadata": {},
     "output_type": "execute_result"
    }
   ],
   "source": [
    "# Checking for null values\n",
    "df.isnull().sum()"
   ]
  },
  {
   "cell_type": "code",
   "execution_count": 8,
   "id": "0f9621f2",
   "metadata": {
    "execution": {
     "iopub.execute_input": "2025-04-10T10:34:34.636097Z",
     "iopub.status.busy": "2025-04-10T10:34:34.635657Z",
     "iopub.status.idle": "2025-04-10T10:34:34.658525Z",
     "shell.execute_reply": "2025-04-10T10:34:34.657371Z"
    },
    "papermill": {
     "duration": 0.039081,
     "end_time": "2025-04-10T10:34:34.660247",
     "exception": false,
     "start_time": "2025-04-10T10:34:34.621166",
     "status": "completed"
    },
    "tags": []
   },
   "outputs": [
    {
     "data": {
      "text/html": [
       "<div>\n",
       "<style scoped>\n",
       "    .dataframe tbody tr th:only-of-type {\n",
       "        vertical-align: middle;\n",
       "    }\n",
       "\n",
       "    .dataframe tbody tr th {\n",
       "        vertical-align: top;\n",
       "    }\n",
       "\n",
       "    .dataframe thead th {\n",
       "        text-align: right;\n",
       "    }\n",
       "</style>\n",
       "<table border=\"1\" class=\"dataframe\">\n",
       "  <thead>\n",
       "    <tr style=\"text-align: right;\">\n",
       "      <th></th>\n",
       "      <th>CustomerId</th>\n",
       "      <th>Surname</th>\n",
       "      <th>CreditScore</th>\n",
       "      <th>Geography</th>\n",
       "      <th>Gender</th>\n",
       "      <th>Age</th>\n",
       "      <th>Tenure</th>\n",
       "      <th>Balance</th>\n",
       "      <th>NumOfProducts</th>\n",
       "      <th>HasCrCard</th>\n",
       "      <th>IsActiveMember</th>\n",
       "      <th>EstimatedSalary</th>\n",
       "      <th>Exited</th>\n",
       "    </tr>\n",
       "    <tr>\n",
       "      <th>RowNumber</th>\n",
       "      <th></th>\n",
       "      <th></th>\n",
       "      <th></th>\n",
       "      <th></th>\n",
       "      <th></th>\n",
       "      <th></th>\n",
       "      <th></th>\n",
       "      <th></th>\n",
       "      <th></th>\n",
       "      <th></th>\n",
       "      <th></th>\n",
       "      <th></th>\n",
       "      <th></th>\n",
       "    </tr>\n",
       "  </thead>\n",
       "  <tbody>\n",
       "    <tr>\n",
       "      <th>1</th>\n",
       "      <td>15634602</td>\n",
       "      <td>Hargrave</td>\n",
       "      <td>619</td>\n",
       "      <td>France</td>\n",
       "      <td>Female</td>\n",
       "      <td>42</td>\n",
       "      <td>2</td>\n",
       "      <td>0.00</td>\n",
       "      <td>1</td>\n",
       "      <td>1</td>\n",
       "      <td>1</td>\n",
       "      <td>101348.88</td>\n",
       "      <td>1</td>\n",
       "    </tr>\n",
       "    <tr>\n",
       "      <th>2</th>\n",
       "      <td>15647311</td>\n",
       "      <td>Hill</td>\n",
       "      <td>608</td>\n",
       "      <td>Spain</td>\n",
       "      <td>Female</td>\n",
       "      <td>41</td>\n",
       "      <td>1</td>\n",
       "      <td>83807.86</td>\n",
       "      <td>1</td>\n",
       "      <td>0</td>\n",
       "      <td>1</td>\n",
       "      <td>112542.58</td>\n",
       "      <td>0</td>\n",
       "    </tr>\n",
       "    <tr>\n",
       "      <th>3</th>\n",
       "      <td>15619304</td>\n",
       "      <td>Onio</td>\n",
       "      <td>502</td>\n",
       "      <td>France</td>\n",
       "      <td>Female</td>\n",
       "      <td>42</td>\n",
       "      <td>8</td>\n",
       "      <td>159660.80</td>\n",
       "      <td>3</td>\n",
       "      <td>1</td>\n",
       "      <td>0</td>\n",
       "      <td>113931.57</td>\n",
       "      <td>1</td>\n",
       "    </tr>\n",
       "    <tr>\n",
       "      <th>4</th>\n",
       "      <td>15701354</td>\n",
       "      <td>Boni</td>\n",
       "      <td>699</td>\n",
       "      <td>France</td>\n",
       "      <td>Female</td>\n",
       "      <td>39</td>\n",
       "      <td>1</td>\n",
       "      <td>0.00</td>\n",
       "      <td>2</td>\n",
       "      <td>0</td>\n",
       "      <td>0</td>\n",
       "      <td>93826.63</td>\n",
       "      <td>0</td>\n",
       "    </tr>\n",
       "    <tr>\n",
       "      <th>5</th>\n",
       "      <td>15737888</td>\n",
       "      <td>Mitchell</td>\n",
       "      <td>850</td>\n",
       "      <td>Spain</td>\n",
       "      <td>Female</td>\n",
       "      <td>43</td>\n",
       "      <td>2</td>\n",
       "      <td>125510.82</td>\n",
       "      <td>1</td>\n",
       "      <td>1</td>\n",
       "      <td>1</td>\n",
       "      <td>79084.10</td>\n",
       "      <td>0</td>\n",
       "    </tr>\n",
       "    <tr>\n",
       "      <th>...</th>\n",
       "      <td>...</td>\n",
       "      <td>...</td>\n",
       "      <td>...</td>\n",
       "      <td>...</td>\n",
       "      <td>...</td>\n",
       "      <td>...</td>\n",
       "      <td>...</td>\n",
       "      <td>...</td>\n",
       "      <td>...</td>\n",
       "      <td>...</td>\n",
       "      <td>...</td>\n",
       "      <td>...</td>\n",
       "      <td>...</td>\n",
       "    </tr>\n",
       "    <tr>\n",
       "      <th>9996</th>\n",
       "      <td>15606229</td>\n",
       "      <td>Obijiaku</td>\n",
       "      <td>771</td>\n",
       "      <td>France</td>\n",
       "      <td>Male</td>\n",
       "      <td>39</td>\n",
       "      <td>5</td>\n",
       "      <td>0.00</td>\n",
       "      <td>2</td>\n",
       "      <td>1</td>\n",
       "      <td>0</td>\n",
       "      <td>96270.64</td>\n",
       "      <td>0</td>\n",
       "    </tr>\n",
       "    <tr>\n",
       "      <th>9997</th>\n",
       "      <td>15569892</td>\n",
       "      <td>Johnstone</td>\n",
       "      <td>516</td>\n",
       "      <td>France</td>\n",
       "      <td>Male</td>\n",
       "      <td>35</td>\n",
       "      <td>10</td>\n",
       "      <td>57369.61</td>\n",
       "      <td>1</td>\n",
       "      <td>1</td>\n",
       "      <td>1</td>\n",
       "      <td>101699.77</td>\n",
       "      <td>0</td>\n",
       "    </tr>\n",
       "    <tr>\n",
       "      <th>9998</th>\n",
       "      <td>15584532</td>\n",
       "      <td>Liu</td>\n",
       "      <td>709</td>\n",
       "      <td>France</td>\n",
       "      <td>Female</td>\n",
       "      <td>36</td>\n",
       "      <td>7</td>\n",
       "      <td>0.00</td>\n",
       "      <td>1</td>\n",
       "      <td>0</td>\n",
       "      <td>1</td>\n",
       "      <td>42085.58</td>\n",
       "      <td>1</td>\n",
       "    </tr>\n",
       "    <tr>\n",
       "      <th>9999</th>\n",
       "      <td>15682355</td>\n",
       "      <td>Sabbatini</td>\n",
       "      <td>772</td>\n",
       "      <td>Germany</td>\n",
       "      <td>Male</td>\n",
       "      <td>42</td>\n",
       "      <td>3</td>\n",
       "      <td>75075.31</td>\n",
       "      <td>2</td>\n",
       "      <td>1</td>\n",
       "      <td>0</td>\n",
       "      <td>92888.52</td>\n",
       "      <td>1</td>\n",
       "    </tr>\n",
       "    <tr>\n",
       "      <th>10000</th>\n",
       "      <td>15628319</td>\n",
       "      <td>Walker</td>\n",
       "      <td>792</td>\n",
       "      <td>France</td>\n",
       "      <td>Female</td>\n",
       "      <td>28</td>\n",
       "      <td>4</td>\n",
       "      <td>130142.79</td>\n",
       "      <td>1</td>\n",
       "      <td>1</td>\n",
       "      <td>0</td>\n",
       "      <td>38190.78</td>\n",
       "      <td>0</td>\n",
       "    </tr>\n",
       "  </tbody>\n",
       "</table>\n",
       "<p>10000 rows × 13 columns</p>\n",
       "</div>"
      ],
      "text/plain": [
       "           CustomerId    Surname  CreditScore Geography  Gender  Age  Tenure  \\\n",
       "RowNumber                                                                      \n",
       "1            15634602   Hargrave          619    France  Female   42       2   \n",
       "2            15647311       Hill          608     Spain  Female   41       1   \n",
       "3            15619304       Onio          502    France  Female   42       8   \n",
       "4            15701354       Boni          699    France  Female   39       1   \n",
       "5            15737888   Mitchell          850     Spain  Female   43       2   \n",
       "...               ...        ...          ...       ...     ...  ...     ...   \n",
       "9996         15606229   Obijiaku          771    France    Male   39       5   \n",
       "9997         15569892  Johnstone          516    France    Male   35      10   \n",
       "9998         15584532        Liu          709    France  Female   36       7   \n",
       "9999         15682355  Sabbatini          772   Germany    Male   42       3   \n",
       "10000        15628319     Walker          792    France  Female   28       4   \n",
       "\n",
       "             Balance  NumOfProducts  HasCrCard  IsActiveMember  \\\n",
       "RowNumber                                                        \n",
       "1               0.00              1          1               1   \n",
       "2           83807.86              1          0               1   \n",
       "3          159660.80              3          1               0   \n",
       "4               0.00              2          0               0   \n",
       "5          125510.82              1          1               1   \n",
       "...              ...            ...        ...             ...   \n",
       "9996            0.00              2          1               0   \n",
       "9997        57369.61              1          1               1   \n",
       "9998            0.00              1          0               1   \n",
       "9999        75075.31              2          1               0   \n",
       "10000      130142.79              1          1               0   \n",
       "\n",
       "           EstimatedSalary  Exited  \n",
       "RowNumber                           \n",
       "1                101348.88       1  \n",
       "2                112542.58       0  \n",
       "3                113931.57       1  \n",
       "4                 93826.63       0  \n",
       "5                 79084.10       0  \n",
       "...                    ...     ...  \n",
       "9996              96270.64       0  \n",
       "9997             101699.77       0  \n",
       "9998              42085.58       1  \n",
       "9999              92888.52       1  \n",
       "10000             38190.78       0  \n",
       "\n",
       "[10000 rows x 13 columns]"
      ]
     },
     "execution_count": 8,
     "metadata": {},
     "output_type": "execute_result"
    }
   ],
   "source": [
    "# Setting index as the RowNumber column\n",
    "df.set_index('RowNumber', inplace = True)\n",
    "df"
   ]
  },
  {
   "cell_type": "code",
   "execution_count": 9,
   "id": "2b810506",
   "metadata": {
    "execution": {
     "iopub.execute_input": "2025-04-10T10:34:34.689243Z",
     "iopub.status.busy": "2025-04-10T10:34:34.688822Z",
     "iopub.status.idle": "2025-04-10T10:34:34.696157Z",
     "shell.execute_reply": "2025-04-10T10:34:34.695126Z"
    },
    "papermill": {
     "duration": 0.024459,
     "end_time": "2025-04-10T10:34:34.698349",
     "exception": false,
     "start_time": "2025-04-10T10:34:34.673890",
     "status": "completed"
    },
    "tags": []
   },
   "outputs": [
    {
     "data": {
      "text/plain": [
       "2932"
      ]
     },
     "execution_count": 9,
     "metadata": {},
     "output_type": "execute_result"
    }
   ],
   "source": [
    "df['Surname'].nunique()\n",
    "# 2932 out of 10000 Surname values are unique\n",
    "# Drop Surname column"
   ]
  },
  {
   "cell_type": "code",
   "execution_count": 10,
   "id": "dae3bf0a",
   "metadata": {
    "execution": {
     "iopub.execute_input": "2025-04-10T10:34:34.728293Z",
     "iopub.status.busy": "2025-04-10T10:34:34.727854Z",
     "iopub.status.idle": "2025-04-10T10:34:34.734534Z",
     "shell.execute_reply": "2025-04-10T10:34:34.733516Z"
    },
    "papermill": {
     "duration": 0.022986,
     "end_time": "2025-04-10T10:34:34.736229",
     "exception": false,
     "start_time": "2025-04-10T10:34:34.713243",
     "status": "completed"
    },
    "tags": []
   },
   "outputs": [],
   "source": [
    "df.drop(columns = ['Surname'], inplace = True)"
   ]
  },
  {
   "cell_type": "code",
   "execution_count": 11,
   "id": "c7bdd00a",
   "metadata": {
    "execution": {
     "iopub.execute_input": "2025-04-10T10:34:34.765348Z",
     "iopub.status.busy": "2025-04-10T10:34:34.765004Z",
     "iopub.status.idle": "2025-04-10T10:34:34.779592Z",
     "shell.execute_reply": "2025-04-10T10:34:34.778425Z"
    },
    "papermill": {
     "duration": 0.031281,
     "end_time": "2025-04-10T10:34:34.781577",
     "exception": false,
     "start_time": "2025-04-10T10:34:34.750296",
     "status": "completed"
    },
    "tags": []
   },
   "outputs": [
    {
     "data": {
      "text/html": [
       "<div>\n",
       "<style scoped>\n",
       "    .dataframe tbody tr th:only-of-type {\n",
       "        vertical-align: middle;\n",
       "    }\n",
       "\n",
       "    .dataframe tbody tr th {\n",
       "        vertical-align: top;\n",
       "    }\n",
       "\n",
       "    .dataframe thead th {\n",
       "        text-align: right;\n",
       "    }\n",
       "</style>\n",
       "<table border=\"1\" class=\"dataframe\">\n",
       "  <thead>\n",
       "    <tr style=\"text-align: right;\">\n",
       "      <th></th>\n",
       "      <th>CustomerId</th>\n",
       "      <th>CreditScore</th>\n",
       "      <th>Geography</th>\n",
       "      <th>Gender</th>\n",
       "      <th>Age</th>\n",
       "      <th>Tenure</th>\n",
       "      <th>Balance</th>\n",
       "      <th>NumOfProducts</th>\n",
       "      <th>HasCrCard</th>\n",
       "      <th>IsActiveMember</th>\n",
       "      <th>EstimatedSalary</th>\n",
       "      <th>Exited</th>\n",
       "    </tr>\n",
       "    <tr>\n",
       "      <th>RowNumber</th>\n",
       "      <th></th>\n",
       "      <th></th>\n",
       "      <th></th>\n",
       "      <th></th>\n",
       "      <th></th>\n",
       "      <th></th>\n",
       "      <th></th>\n",
       "      <th></th>\n",
       "      <th></th>\n",
       "      <th></th>\n",
       "      <th></th>\n",
       "      <th></th>\n",
       "    </tr>\n",
       "  </thead>\n",
       "  <tbody>\n",
       "    <tr>\n",
       "      <th>1</th>\n",
       "      <td>15634602</td>\n",
       "      <td>619</td>\n",
       "      <td>France</td>\n",
       "      <td>Female</td>\n",
       "      <td>42</td>\n",
       "      <td>2</td>\n",
       "      <td>0.00</td>\n",
       "      <td>1</td>\n",
       "      <td>1</td>\n",
       "      <td>1</td>\n",
       "      <td>101348.88</td>\n",
       "      <td>1</td>\n",
       "    </tr>\n",
       "    <tr>\n",
       "      <th>2</th>\n",
       "      <td>15647311</td>\n",
       "      <td>608</td>\n",
       "      <td>Spain</td>\n",
       "      <td>Female</td>\n",
       "      <td>41</td>\n",
       "      <td>1</td>\n",
       "      <td>83807.86</td>\n",
       "      <td>1</td>\n",
       "      <td>0</td>\n",
       "      <td>1</td>\n",
       "      <td>112542.58</td>\n",
       "      <td>0</td>\n",
       "    </tr>\n",
       "    <tr>\n",
       "      <th>3</th>\n",
       "      <td>15619304</td>\n",
       "      <td>502</td>\n",
       "      <td>France</td>\n",
       "      <td>Female</td>\n",
       "      <td>42</td>\n",
       "      <td>8</td>\n",
       "      <td>159660.80</td>\n",
       "      <td>3</td>\n",
       "      <td>1</td>\n",
       "      <td>0</td>\n",
       "      <td>113931.57</td>\n",
       "      <td>1</td>\n",
       "    </tr>\n",
       "    <tr>\n",
       "      <th>4</th>\n",
       "      <td>15701354</td>\n",
       "      <td>699</td>\n",
       "      <td>France</td>\n",
       "      <td>Female</td>\n",
       "      <td>39</td>\n",
       "      <td>1</td>\n",
       "      <td>0.00</td>\n",
       "      <td>2</td>\n",
       "      <td>0</td>\n",
       "      <td>0</td>\n",
       "      <td>93826.63</td>\n",
       "      <td>0</td>\n",
       "    </tr>\n",
       "    <tr>\n",
       "      <th>5</th>\n",
       "      <td>15737888</td>\n",
       "      <td>850</td>\n",
       "      <td>Spain</td>\n",
       "      <td>Female</td>\n",
       "      <td>43</td>\n",
       "      <td>2</td>\n",
       "      <td>125510.82</td>\n",
       "      <td>1</td>\n",
       "      <td>1</td>\n",
       "      <td>1</td>\n",
       "      <td>79084.10</td>\n",
       "      <td>0</td>\n",
       "    </tr>\n",
       "    <tr>\n",
       "      <th>6</th>\n",
       "      <td>15574012</td>\n",
       "      <td>645</td>\n",
       "      <td>Spain</td>\n",
       "      <td>Male</td>\n",
       "      <td>44</td>\n",
       "      <td>8</td>\n",
       "      <td>113755.78</td>\n",
       "      <td>2</td>\n",
       "      <td>1</td>\n",
       "      <td>0</td>\n",
       "      <td>149756.71</td>\n",
       "      <td>1</td>\n",
       "    </tr>\n",
       "    <tr>\n",
       "      <th>7</th>\n",
       "      <td>15592531</td>\n",
       "      <td>822</td>\n",
       "      <td>France</td>\n",
       "      <td>Male</td>\n",
       "      <td>50</td>\n",
       "      <td>7</td>\n",
       "      <td>0.00</td>\n",
       "      <td>2</td>\n",
       "      <td>1</td>\n",
       "      <td>1</td>\n",
       "      <td>10062.80</td>\n",
       "      <td>0</td>\n",
       "    </tr>\n",
       "  </tbody>\n",
       "</table>\n",
       "</div>"
      ],
      "text/plain": [
       "           CustomerId  CreditScore Geography  Gender  Age  Tenure    Balance  \\\n",
       "RowNumber                                                                      \n",
       "1            15634602          619    France  Female   42       2       0.00   \n",
       "2            15647311          608     Spain  Female   41       1   83807.86   \n",
       "3            15619304          502    France  Female   42       8  159660.80   \n",
       "4            15701354          699    France  Female   39       1       0.00   \n",
       "5            15737888          850     Spain  Female   43       2  125510.82   \n",
       "6            15574012          645     Spain    Male   44       8  113755.78   \n",
       "7            15592531          822    France    Male   50       7       0.00   \n",
       "\n",
       "           NumOfProducts  HasCrCard  IsActiveMember  EstimatedSalary  Exited  \n",
       "RowNumber                                                                     \n",
       "1                      1          1               1        101348.88       1  \n",
       "2                      1          0               1        112542.58       0  \n",
       "3                      3          1               0        113931.57       1  \n",
       "4                      2          0               0         93826.63       0  \n",
       "5                      1          1               1         79084.10       0  \n",
       "6                      2          1               0        149756.71       1  \n",
       "7                      2          1               1         10062.80       0  "
      ]
     },
     "execution_count": 11,
     "metadata": {},
     "output_type": "execute_result"
    }
   ],
   "source": [
    "df.head(7)"
   ]
  },
  {
   "cell_type": "code",
   "execution_count": 12,
   "id": "7c3319e9",
   "metadata": {
    "execution": {
     "iopub.execute_input": "2025-04-10T10:34:34.812245Z",
     "iopub.status.busy": "2025-04-10T10:34:34.811798Z",
     "iopub.status.idle": "2025-04-10T10:34:34.818826Z",
     "shell.execute_reply": "2025-04-10T10:34:34.817766Z"
    },
    "papermill": {
     "duration": 0.024741,
     "end_time": "2025-04-10T10:34:34.820575",
     "exception": false,
     "start_time": "2025-04-10T10:34:34.795834",
     "status": "completed"
    },
    "tags": []
   },
   "outputs": [
    {
     "data": {
      "text/plain": [
       "10000"
      ]
     },
     "execution_count": 12,
     "metadata": {},
     "output_type": "execute_result"
    }
   ],
   "source": [
    "df['CustomerId'].nunique()\n",
    "# CustomerId column is correct"
   ]
  },
  {
   "cell_type": "markdown",
   "id": "15ec2984",
   "metadata": {
    "papermill": {
     "duration": 0.013423,
     "end_time": "2025-04-10T10:34:34.848029",
     "exception": false,
     "start_time": "2025-04-10T10:34:34.834606",
     "status": "completed"
    },
    "tags": []
   },
   "source": [
    "# **Univariate Analysis**"
   ]
  },
  {
   "cell_type": "markdown",
   "id": "bd9fb8d0",
   "metadata": {
    "papermill": {
     "duration": 0.013739,
     "end_time": "2025-04-10T10:34:34.875737",
     "exception": false,
     "start_time": "2025-04-10T10:34:34.861998",
     "status": "completed"
    },
    "tags": []
   },
   "source": [
    "### **CreditScore Column**"
   ]
  },
  {
   "cell_type": "code",
   "execution_count": 13,
   "id": "adc30a1d",
   "metadata": {
    "execution": {
     "iopub.execute_input": "2025-04-10T10:34:34.905957Z",
     "iopub.status.busy": "2025-04-10T10:34:34.905514Z",
     "iopub.status.idle": "2025-04-10T10:34:34.916766Z",
     "shell.execute_reply": "2025-04-10T10:34:34.915423Z"
    },
    "papermill": {
     "duration": 0.029285,
     "end_time": "2025-04-10T10:34:34.919622",
     "exception": false,
     "start_time": "2025-04-10T10:34:34.890337",
     "status": "completed"
    },
    "tags": []
   },
   "outputs": [
    {
     "data": {
      "text/plain": [
       "count    10000.000000\n",
       "mean       650.528800\n",
       "std         96.653299\n",
       "min        350.000000\n",
       "25%        584.000000\n",
       "50%        652.000000\n",
       "75%        718.000000\n",
       "max        850.000000\n",
       "Name: CreditScore, dtype: float64"
      ]
     },
     "execution_count": 13,
     "metadata": {},
     "output_type": "execute_result"
    }
   ],
   "source": [
    "df['CreditScore'].describe()"
   ]
  },
  {
   "cell_type": "code",
   "execution_count": 14,
   "id": "3ddd7afc",
   "metadata": {
    "execution": {
     "iopub.execute_input": "2025-04-10T10:34:34.951315Z",
     "iopub.status.busy": "2025-04-10T10:34:34.950873Z",
     "iopub.status.idle": "2025-04-10T10:34:35.300681Z",
     "shell.execute_reply": "2025-04-10T10:34:35.299340Z"
    },
    "papermill": {
     "duration": 0.367978,
     "end_time": "2025-04-10T10:34:35.302605",
     "exception": false,
     "start_time": "2025-04-10T10:34:34.934627",
     "status": "completed"
    },
    "tags": []
   },
   "outputs": [
    {
     "data": {
      "image/png": "[encoded data removed]",
      "text/plain": [
       "<Figure size 640x480 with 1 Axes>"
      ]
     },
     "metadata": {},
     "output_type": "display_data"
    }
   ],
   "source": [
    "bins = np.arange(350, 851, 50)\n",
    "sns.histplot(df['CreditScore'], bins=bins, kde=False, color='steelblue')\n",
    "\n",
    "plt.title('Credit Score of Customers')\n",
    "plt.xlabel('Credit Score')\n",
    "plt.ylabel('Customers Count')\n",
    "plt.show()"
   ]
  },
  {
   "cell_type": "code",
   "execution_count": 15,
   "id": "66ec0c48",
   "metadata": {
    "execution": {
     "iopub.execute_input": "2025-04-10T10:34:35.336135Z",
     "iopub.status.busy": "2025-04-10T10:34:35.335711Z",
     "iopub.status.idle": "2025-04-10T10:34:35.347640Z",
     "shell.execute_reply": "2025-04-10T10:34:35.346444Z"
    },
    "papermill": {
     "duration": 0.031671,
     "end_time": "2025-04-10T10:34:35.349691",
     "exception": false,
     "start_time": "2025-04-10T10:34:35.318020",
     "status": "completed"
    },
    "tags": []
   },
   "outputs": [
    {
     "data": {
      "text/html": [
       "<div>\n",
       "<style scoped>\n",
       "    .dataframe tbody tr th:only-of-type {\n",
       "        vertical-align: middle;\n",
       "    }\n",
       "\n",
       "    .dataframe tbody tr th {\n",
       "        vertical-align: top;\n",
       "    }\n",
       "\n",
       "    .dataframe thead th {\n",
       "        text-align: right;\n",
       "    }\n",
       "</style>\n",
       "<table border=\"1\" class=\"dataframe\">\n",
       "  <thead>\n",
       "    <tr style=\"text-align: right;\">\n",
       "      <th></th>\n",
       "      <th>CustomerId</th>\n",
       "      <th>CreditScore</th>\n",
       "      <th>Geography</th>\n",
       "      <th>Gender</th>\n",
       "      <th>Age</th>\n",
       "      <th>Tenure</th>\n",
       "      <th>Balance</th>\n",
       "      <th>NumOfProducts</th>\n",
       "      <th>HasCrCard</th>\n",
       "      <th>IsActiveMember</th>\n",
       "      <th>EstimatedSalary</th>\n",
       "      <th>Exited</th>\n",
       "    </tr>\n",
       "    <tr>\n",
       "      <th>RowNumber</th>\n",
       "      <th></th>\n",
       "      <th></th>\n",
       "      <th></th>\n",
       "      <th></th>\n",
       "      <th></th>\n",
       "      <th></th>\n",
       "      <th></th>\n",
       "      <th></th>\n",
       "      <th></th>\n",
       "      <th></th>\n",
       "      <th></th>\n",
       "      <th></th>\n",
       "    </tr>\n",
       "  </thead>\n",
       "  <tbody>\n",
       "  </tbody>\n",
       "</table>\n",
       "</div>"
      ],
      "text/plain": [
       "Empty DataFrame\n",
       "Columns: [CustomerId, CreditScore, Geography, Gender, Age, Tenure, Balance, NumOfProducts, HasCrCard, IsActiveMember, EstimatedSalary, Exited]\n",
       "Index: []"
      ]
     },
     "execution_count": 15,
     "metadata": {},
     "output_type": "execute_result"
    }
   ],
   "source": [
    "# Checking if there are values out of normal CreditScore range (350, 850)\n",
    "df[(df['CreditScore'] < 350) | (df['CreditScore'] > 850)]\n",
    "# Min is 350, Max is 850"
   ]
  },
  {
   "cell_type": "markdown",
   "id": "5529f9f4",
   "metadata": {
    "papermill": {
     "duration": 0.014483,
     "end_time": "2025-04-10T10:34:35.379039",
     "exception": false,
     "start_time": "2025-04-10T10:34:35.364556",
     "status": "completed"
    },
    "tags": []
   },
   "source": [
    "### **Geography Column**"
   ]
  },
  {
   "cell_type": "code",
   "execution_count": 16,
   "id": "85ca93cf",
   "metadata": {
    "execution": {
     "iopub.execute_input": "2025-04-10T10:34:35.410229Z",
     "iopub.status.busy": "2025-04-10T10:34:35.409801Z",
     "iopub.status.idle": "2025-04-10T10:34:35.419942Z",
     "shell.execute_reply": "2025-04-10T10:34:35.418698Z"
    },
    "papermill": {
     "duration": 0.027902,
     "end_time": "2025-04-10T10:34:35.421787",
     "exception": false,
     "start_time": "2025-04-10T10:34:35.393885",
     "status": "completed"
    },
    "tags": []
   },
   "outputs": [
    {
     "data": {
      "text/plain": [
       "count      10000\n",
       "unique         3\n",
       "top       France\n",
       "freq        5014\n",
       "Name: Geography, dtype: object"
      ]
     },
     "execution_count": 16,
     "metadata": {},
     "output_type": "execute_result"
    }
   ],
   "source": [
    "df['Geography'].describe()"
   ]
  },
  {
   "cell_type": "code",
   "execution_count": 17,
   "id": "be2faa31",
   "metadata": {
    "execution": {
     "iopub.execute_input": "2025-04-10T10:34:35.454009Z",
     "iopub.status.busy": "2025-04-10T10:34:35.453635Z",
     "iopub.status.idle": "2025-04-10T10:34:35.461694Z",
     "shell.execute_reply": "2025-04-10T10:34:35.460700Z"
    },
    "papermill": {
     "duration": 0.025915,
     "end_time": "2025-04-10T10:34:35.463377",
     "exception": false,
     "start_time": "2025-04-10T10:34:35.437462",
     "status": "completed"
    },
    "tags": []
   },
   "outputs": [
    {
     "data": {
      "text/plain": [
       "Geography\n",
       "France     5014\n",
       "Germany    2509\n",
       "Spain      2477\n",
       "Name: count, dtype: int64"
      ]
     },
     "execution_count": 17,
     "metadata": {},
     "output_type": "execute_result"
    }
   ],
   "source": [
    "Geography_count = df['Geography'].value_counts()\n",
    "Geography_count"
   ]
  },
  {
   "cell_type": "code",
   "execution_count": 18,
   "id": "70292d1f",
   "metadata": {
    "execution": {
     "iopub.execute_input": "2025-04-10T10:34:35.494822Z",
     "iopub.status.busy": "2025-04-10T10:34:35.494377Z",
     "iopub.status.idle": "2025-04-10T10:34:35.503568Z",
     "shell.execute_reply": "2025-04-10T10:34:35.502569Z"
    },
    "papermill": {
     "duration": 0.02685,
     "end_time": "2025-04-10T10:34:35.505418",
     "exception": false,
     "start_time": "2025-04-10T10:34:35.478568",
     "status": "completed"
    },
    "tags": []
   },
   "outputs": [
    {
     "data": {
      "text/plain": [
       "Geography\n",
       "France     50.14\n",
       "Germany    25.09\n",
       "Spain      24.77\n",
       "Name: proportion, dtype: float64"
      ]
     },
     "execution_count": 18,
     "metadata": {},
     "output_type": "execute_result"
    }
   ],
   "source": [
    "Geography_percent = df['Geography'].value_counts(normalize = True)*100\n",
    "Geography_percent"
   ]
  },
  {
   "cell_type": "code",
   "execution_count": 19,
   "id": "acff7cba",
   "metadata": {
    "execution": {
     "iopub.execute_input": "2025-04-10T10:34:35.537179Z",
     "iopub.status.busy": "2025-04-10T10:34:35.536824Z",
     "iopub.status.idle": "2025-04-10T10:34:35.547892Z",
     "shell.execute_reply": "2025-04-10T10:34:35.546897Z"
    },
    "papermill": {
     "duration": 0.029316,
     "end_time": "2025-04-10T10:34:35.549928",
     "exception": false,
     "start_time": "2025-04-10T10:34:35.520612",
     "status": "completed"
    },
    "tags": []
   },
   "outputs": [
    {
     "data": {
      "text/html": [
       "<div>\n",
       "<style scoped>\n",
       "    .dataframe tbody tr th:only-of-type {\n",
       "        vertical-align: middle;\n",
       "    }\n",
       "\n",
       "    .dataframe tbody tr th {\n",
       "        vertical-align: top;\n",
       "    }\n",
       "\n",
       "    .dataframe thead th {\n",
       "        text-align: right;\n",
       "    }\n",
       "</style>\n",
       "<table border=\"1\" class=\"dataframe\">\n",
       "  <thead>\n",
       "    <tr style=\"text-align: right;\">\n",
       "      <th></th>\n",
       "      <th>Count</th>\n",
       "      <th>Percentage%</th>\n",
       "    </tr>\n",
       "    <tr>\n",
       "      <th>Geography</th>\n",
       "      <th></th>\n",
       "      <th></th>\n",
       "    </tr>\n",
       "  </thead>\n",
       "  <tbody>\n",
       "    <tr>\n",
       "      <th>France</th>\n",
       "      <td>5014</td>\n",
       "      <td>50.14</td>\n",
       "    </tr>\n",
       "    <tr>\n",
       "      <th>Germany</th>\n",
       "      <td>2509</td>\n",
       "      <td>25.09</td>\n",
       "    </tr>\n",
       "    <tr>\n",
       "      <th>Spain</th>\n",
       "      <td>2477</td>\n",
       "      <td>24.77</td>\n",
       "    </tr>\n",
       "  </tbody>\n",
       "</table>\n",
       "</div>"
      ],
      "text/plain": [
       "           Count  Percentage%\n",
       "Geography                    \n",
       "France      5014        50.14\n",
       "Germany     2509        25.09\n",
       "Spain       2477        24.77"
      ]
     },
     "execution_count": 19,
     "metadata": {},
     "output_type": "execute_result"
    }
   ],
   "source": [
    "# Frequency Table\n",
    "freq_table = pd.DataFrame(data = {'Count': Geography_count, 'Percentage%': Geography_percent})\n",
    "freq_table"
   ]
  },
  {
   "cell_type": "code",
   "execution_count": 20,
   "id": "22643aa4",
   "metadata": {
    "execution": {
     "iopub.execute_input": "2025-04-10T10:34:35.582961Z",
     "iopub.status.busy": "2025-04-10T10:34:35.582357Z",
     "iopub.status.idle": "2025-04-10T10:34:36.102683Z",
     "shell.execute_reply": "2025-04-10T10:34:36.101533Z"
    },
    "papermill": {
     "duration": 0.539253,
     "end_time": "2025-04-10T10:34:36.104532",
     "exception": false,
     "start_time": "2025-04-10T10:34:35.565279",
     "status": "completed"
    },
    "tags": []
   },
   "outputs": [
    {
     "data": {
      "image/png": "[encoded data removed]",
      "text/plain": [
       "<Figure size 1200x600 with 2 Axes>"
      ]
     },
     "metadata": {},
     "output_type": "display_data"
    }
   ],
   "source": [
    "Geography_count = df['Geography'].value_counts()\n",
    "\n",
    "plt.figure(figsize = (12, 6))\n",
    "\n",
    "plt.subplot(1, 2, 1)\n",
    "sns.barplot(x = df['Geography'].value_counts().index,\n",
    "            y = df['Geography'].value_counts())\n",
    "plt.title('Geography distribution')\n",
    "plt.xlabel('Countries')\n",
    "plt.ylabel('Customer Count')\n",
    "\n",
    "# Display text over bar charts\n",
    "for i in range(len(Geography_count)):\n",
    "    plt.text(i, Geography_count[i] + 7, Geography_count[i], ha = 'center')\n",
    "\n",
    "\n",
    "plt.subplot(1, 2, 2)\n",
    "plt.pie(x = df['Geography'].value_counts(),\n",
    "        labels = df['Geography'].value_counts().index,\n",
    "        explode = [0, 0, 0.1],\n",
    "        normalize = True,\n",
    "        shadow = True)\n",
    "\n",
    "plt.title('Geography Distribution')\n",
    "plt.legend(loc = 'upper right')\n",
    "\n",
    "plt.tight_layout()\n",
    "plt.show()"
   ]
  },
  {
   "cell_type": "markdown",
   "id": "f2a10d3f",
   "metadata": {
    "papermill": {
     "duration": 0.016272,
     "end_time": "2025-04-10T10:34:36.138495",
     "exception": false,
     "start_time": "2025-04-10T10:34:36.122223",
     "status": "completed"
    },
    "tags": []
   },
   "source": [
    "## **Gender Column**"
   ]
  },
  {
   "cell_type": "code",
   "execution_count": 21,
   "id": "01d8f279",
   "metadata": {
    "execution": {
     "iopub.execute_input": "2025-04-10T10:34:36.173058Z",
     "iopub.status.busy": "2025-04-10T10:34:36.172613Z",
     "iopub.status.idle": "2025-04-10T10:34:36.182817Z",
     "shell.execute_reply": "2025-04-10T10:34:36.181563Z"
    },
    "papermill": {
     "duration": 0.029682,
     "end_time": "2025-04-10T10:34:36.184721",
     "exception": false,
     "start_time": "2025-04-10T10:34:36.155039",
     "status": "completed"
    },
    "tags": []
   },
   "outputs": [
    {
     "data": {
      "text/plain": [
       "count     10000\n",
       "unique        2\n",
       "top        Male\n",
       "freq       5457\n",
       "Name: Gender, dtype: object"
      ]
     },
     "execution_count": 21,
     "metadata": {},
     "output_type": "execute_result"
    }
   ],
   "source": [
    "df['Gender'].describe()"
   ]
  },
  {
   "cell_type": "code",
   "execution_count": 22,
   "id": "311ffb47",
   "metadata": {
    "execution": {
     "iopub.execute_input": "2025-04-10T10:34:36.221396Z",
     "iopub.status.busy": "2025-04-10T10:34:36.221028Z",
     "iopub.status.idle": "2025-04-10T10:34:36.229381Z",
     "shell.execute_reply": "2025-04-10T10:34:36.228409Z"
    },
    "papermill": {
     "duration": 0.029646,
     "end_time": "2025-04-10T10:34:36.231159",
     "exception": false,
     "start_time": "2025-04-10T10:34:36.201513",
     "status": "completed"
    },
    "tags": []
   },
   "outputs": [
    {
     "data": {
      "text/plain": [
       "Gender\n",
       "Male      5457\n",
       "Female    4543\n",
       "Name: count, dtype: int64"
      ]
     },
     "execution_count": 22,
     "metadata": {},
     "output_type": "execute_result"
    }
   ],
   "source": [
    "df['Gender'].value_counts()"
   ]
  },
  {
   "cell_type": "code",
   "execution_count": 23,
   "id": "afecc51d",
   "metadata": {
    "execution": {
     "iopub.execute_input": "2025-04-10T10:34:36.265816Z",
     "iopub.status.busy": "2025-04-10T10:34:36.265405Z",
     "iopub.status.idle": "2025-04-10T10:34:36.273987Z",
     "shell.execute_reply": "2025-04-10T10:34:36.273009Z"
    },
    "papermill": {
     "duration": 0.028145,
     "end_time": "2025-04-10T10:34:36.275879",
     "exception": false,
     "start_time": "2025-04-10T10:34:36.247734",
     "status": "completed"
    },
    "tags": []
   },
   "outputs": [
    {
     "data": {
      "text/plain": [
       "Gender\n",
       "Male      54.57\n",
       "Female    45.43\n",
       "Name: proportion, dtype: float64"
      ]
     },
     "execution_count": 23,
     "metadata": {},
     "output_type": "execute_result"
    }
   ],
   "source": [
    "df['Gender'].value_counts(normalize = True)*100"
   ]
  },
  {
   "cell_type": "code",
   "execution_count": 24,
   "id": "b84db6e2",
   "metadata": {
    "execution": {
     "iopub.execute_input": "2025-04-10T10:34:36.310783Z",
     "iopub.status.busy": "2025-04-10T10:34:36.310392Z",
     "iopub.status.idle": "2025-04-10T10:34:36.666037Z",
     "shell.execute_reply": "2025-04-10T10:34:36.664968Z"
    },
    "papermill": {
     "duration": 0.375722,
     "end_time": "2025-04-10T10:34:36.668450",
     "exception": false,
     "start_time": "2025-04-10T10:34:36.292728",
     "status": "completed"
    },
    "tags": []
   },
   "outputs": [
    {
     "data": {
      "image/png": "[encoded data removed]",
      "text/plain": [
       "<Figure size 1200x600 with 2 Axes>"
      ]
     },
     "metadata": {},
     "output_type": "display_data"
    }
   ],
   "source": [
    "gender_count = df['Gender'].value_counts()\n",
    "\n",
    "plt.figure(figsize = (12, 6))\n",
    "\n",
    "plt.subplot(1, 2, 1)\n",
    "sns.barplot(x = df['Gender'].value_counts().index,\n",
    "            y = df['Gender'].value_counts(),\n",
    "            palette=['#4287f5', '#f54287'])\n",
    "plt.title('Gender distribution')\n",
    "plt.xlabel('Gender')\n",
    "plt.ylabel('Frequency')\n",
    "\n",
    "# Display text over bar charts\n",
    "for i in range(len(gender_count)):\n",
    "    plt.text(i, gender_count[i] + 6, gender_count[i], ha = 'center')\n",
    "\n",
    "\n",
    "plt.subplot(1, 2, 2)\n",
    "plt.pie(x = df['Gender'].value_counts(),\n",
    "        labels = df['Gender'].value_counts().index,\n",
    "        explode = [0, 0.1],\n",
    "        normalize = True,\n",
    "        autopct = '%1.1f%%',\n",
    "        shadow = True,\n",
    "        colors = ['#4287f5', '#f54287'])\n",
    "\n",
    "plt.title('Gender Distribution')\n",
    "plt.legend(loc = 'upper right')\n",
    "\n",
    "plt.tight_layout()\n",
    "plt.show()"
   ]
  },
  {
   "cell_type": "code",
   "execution_count": 25,
   "id": "7d645b2c",
   "metadata": {
    "execution": {
     "iopub.execute_input": "2025-04-10T10:34:36.765927Z",
     "iopub.status.busy": "2025-04-10T10:34:36.765513Z",
     "iopub.status.idle": "2025-04-10T10:34:38.877921Z",
     "shell.execute_reply": "2025-04-10T10:34:38.876980Z"
    },
    "papermill": {
     "duration": 2.193146,
     "end_time": "2025-04-10T10:34:38.879831",
     "exception": false,
     "start_time": "2025-04-10T10:34:36.686685",
     "status": "completed"
    },
    "tags": []
   },
   "outputs": [
    {
     "data": {
      "text/html": [
       "<html>\n",
       "<head><meta charset=\"utf-8\" /></head>\n",
       "<body>\n",
       "    <div>            <script src=\"https://cdnjs.cloudflare.com/ajax/libs/mathjax/2.7.5/MathJax.js?config=TeX-AMS-MML_SVG\"></script><script type=\"text/javascript\">if (window.MathJax && window.MathJax.Hub && window.MathJax.Hub.Config) {window.MathJax.Hub.Config({SVG: {font: \"STIX-Web\"}});}</script>                <script type=\"text/javascript\">window.PlotlyConfig = {MathJaxConfig: 'local'};</script>\n",
       "        <script charset=\"utf-8\" src=\"https://cdn.plot.ly/plotly-2.35.2.min.js\"></script>                <div id=\"dfc6d153-50a5-41df-be10-bf7f3a699309\" class=\"plotly-graph-div\" style=\"height:525px; width:100%;\"></div>            <script type=\"text/javascript\">                                    window.PLOTLYENV=window.PLOTLYENV || {};                                    if (document.getElementById(\"dfc6d153-50a5-41df-be10-bf7f3a699309\")) {                    Plotly.newPlot(                        \"dfc6d153-50a5-41df-be10-bf7f3a699309\",                        [{\"domain\":{\"x\":[0.0,1.0],\"y\":[0.0,1.0]},\"hovertemplate\":\"label=%{label}\\u003cbr\\u003evalue=%{value}\\u003cextra\\u003e\\u003c\\u002fextra\\u003e\",\"labels\":[\"Male\",\"Female\"],\"legendgroup\":\"\",\"name\":\"\",\"showlegend\":true,\"values\":[5457,4543],\"type\":\"pie\",\"textinfo\":\"percent+label+value\"}],                        {\"template\":{\"data\":{\"histogram2dcontour\":[{\"type\":\"histogram2dcontour\",\"colorbar\":{\"outlinewidth\":0,\"ticks\":\"\"},\"colorscale\":[[0.0,\"#0d0887\"],[0.1111111111111111,\"#46039f\"],[0.2222222222222222,\"#7201a8\"],[0.3333333333333333,\"#9c179e\"],[0.4444444444444444,\"#bd3786\"],[0.5555555555555556,\"#d8576b\"],[0.6666666666666666,\"#ed7953\"],[0.7777777777777778,\"#fb9f3a\"],[0.8888888888888888,\"#fdca26\"],[1.0,\"#f0f921\"]]}],\"choropleth\":[{\"type\":\"choropleth\",\"colorbar\":{\"outlinewidth\":0,\"ticks\":\"\"}}],\"histogram2d\":[{\"type\":\"histogram2d\",\"colorbar\":{\"outlinewidth\":0,\"ticks\":\"\"},\"colorscale\":[[0.0,\"#0d0887\"],[0.1111111111111111,\"#46039f\"],[0.2222222222222222,\"#7201a8\"],[0.3333333333333333,\"#9c179e\"],[0.4444444444444444,\"#bd3786\"],[0.5555555555555556,\"#d8576b\"],[0.6666666666666666,\"#ed7953\"],[0.7777777777777778,\"#fb9f3a\"],[0.8888888888888888,\"#fdca26\"],[1.0,\"#f0f921\"]]}],\"heatmap\":[{\"type\":\"heatmap\",\"colorbar\":{\"outlinewidth\":0,\"ticks\":\"\"},\"colorscale\":[[0.0,\"#0d0887\"],[0.1111111111111111,\"#46039f\"],[0.2222222222222222,\"#7201a8\"],[0.3333333333333333,\"#9c179e\"],[0.4444444444444444,\"#bd3786\"],[0.5555555555555556,\"#d8576b\"],[0.6666666666666666,\"#ed7953\"],[0.7777777777777778,\"#fb9f3a\"],[0.8888888888888888,\"#fdca26\"],[1.0,\"#f0f921\"]]}],\"heatmapgl\":[{\"type\":\"heatmapgl\",\"colorbar\":{\"outlinewidth\":0,\"ticks\":\"\"},\"colorscale\":[[0.0,\"#0d0887\"],[0.1111111111111111,\"#46039f\"],[0.2222222222222222,\"#7201a8\"],[0.3333333333333333,\"#9c179e\"],[0.4444444444444444,\"#bd3786\"],[0.5555555555555556,\"#d8576b\"],[0.6666666666666666,\"#ed7953\"],[0.7777777777777778,\"#fb9f3a\"],[0.8888888888888888,\"#fdca26\"],[1.0,\"#f0f921\"]]}],\"contourcarpet\":[{\"type\":\"contourcarpet\",\"colorbar\":{\"outlinewidth\":0,\"ticks\":\"\"}}],\"contour\":[{\"type\":\"contour\",\"colorbar\":{\"outlinewidth\":0,\"ticks\":\"\"},\"colorscale\":[[0.0,\"#0d0887\"],[0.1111111111111111,\"#46039f\"],[0.2222222222222222,\"#7201a8\"],[0.3333333333333333,\"#9c179e\"],[0.4444444444444444,\"#bd3786\"],[0.5555555555555556,\"#d8576b\"],[0.6666666666666666,\"#ed7953\"],[0.7777777777777778,\"#fb9f3a\"],[0.8888888888888888,\"#fdca26\"],[1.0,\"#f0f921\"]]}],\"surface\":[{\"type\":\"surface\",\"colorbar\":{\"outlinewidth\":0,\"ticks\":\"\"},\"colorscale\":[[0.0,\"#0d0887\"],[0.1111111111111111,\"#46039f\"],[0.2222222222222222,\"#7201a8\"],[0.3333333333333333,\"#9c179e\"],[0.4444444444444444,\"#bd3786\"],[0.5555555555555556,\"#d8576b\"],[0.6666666666666666,\"#ed7953\"],[0.7777777777777778,\"#fb9f3a\"],[0.8888888888888888,\"#fdca26\"],[1.0,\"#f0f921\"]]}],\"mesh3d\":[{\"type\":\"mesh3d\",\"colorbar\":{\"outlinewidth\":0,\"ticks\":\"\"}}],\"scatter\":[{\"fillpattern\":{\"fillmode\":\"overlay\",\"size\":10,\"solidity\":0.2},\"type\":\"scatter\"}],\"parcoords\":[{\"type\":\"parcoords\",\"line\":{\"colorbar\":{\"outlinewidth\":0,\"ticks\":\"\"}}}],\"scatterpolargl\":[{\"type\":\"scatterpolargl\",\"marker\":{\"colorbar\":{\"outlinewidth\":0,\"ticks\":\"\"}}}],\"bar\":[{\"error_x\":{\"color\":\"#2a3f5f\"},\"error_y\":{\"color\":\"#2a3f5f\"},\"marker\":{\"line\":{\"color\":\"#E5ECF6\",\"width\":0.5},\"pattern\":{\"fillmode\":\"overlay\",\"size\":10,\"solidity\":0.2}},\"type\":\"bar\"}],\"scattergeo\":[{\"type\":\"scattergeo\",\"marker\":{\"colorbar\":{\"outlinewidth\":0,\"ticks\":\"\"}}}],\"scatterpolar\":[{\"type\":\"scatterpolar\",\"marker\":{\"colorbar\":{\"outlinewidth\":0,\"ticks\":\"\"}}}],\"histogram\":[{\"marker\":{\"pattern\":{\"fillmode\":\"overlay\",\"size\":10,\"solidity\":0.2}},\"type\":\"histogram\"}],\"scattergl\":[{\"type\":\"scattergl\",\"marker\":{\"colorbar\":{\"outlinewidth\":0,\"ticks\":\"\"}}}],\"scatter3d\":[{\"type\":\"scatter3d\",\"line\":{\"colorbar\":{\"outlinewidth\":0,\"ticks\":\"\"}},\"marker\":{\"colorbar\":{\"outlinewidth\":0,\"ticks\":\"\"}}}],\"scattermapbox\":[{\"type\":\"scattermapbox\",\"marker\":{\"colorbar\":{\"outlinewidth\":0,\"ticks\":\"\"}}}],\"scatterternary\":[{\"type\":\"scatterternary\",\"marker\":{\"colorbar\":{\"outlinewidth\":0,\"ticks\":\"\"}}}],\"scattercarpet\":[{\"type\":\"scattercarpet\",\"marker\":{\"colorbar\":{\"outlinewidth\":0,\"ticks\":\"\"}}}],\"carpet\":[{\"aaxis\":{\"endlinecolor\":\"#2a3f5f\",\"gridcolor\":\"white\",\"linecolor\":\"white\",\"minorgridcolor\":\"white\",\"startlinecolor\":\"#2a3f5f\"},\"baxis\":{\"endlinecolor\":\"#2a3f5f\",\"gridcolor\":\"white\",\"linecolor\":\"white\",\"minorgridcolor\":\"white\",\"startlinecolor\":\"#2a3f5f\"},\"type\":\"carpet\"}],\"table\":[{\"cells\":{\"fill\":{\"color\":\"#EBF0F8\"},\"line\":{\"color\":\"white\"}},\"header\":{\"fill\":{\"color\":\"#C8D4E3\"},\"line\":{\"color\":\"white\"}},\"type\":\"table\"}],\"barpolar\":[{\"marker\":{\"line\":{\"color\":\"#E5ECF6\",\"width\":0.5},\"pattern\":{\"fillmode\":\"overlay\",\"size\":10,\"solidity\":0.2}},\"type\":\"barpolar\"}],\"pie\":[{\"automargin\":true,\"type\":\"pie\"}]},\"layout\":{\"autotypenumbers\":\"strict\",\"colorway\":[\"#636efa\",\"#EF553B\",\"#00cc96\",\"#ab63fa\",\"#FFA15A\",\"#19d3f3\",\"#FF6692\",\"#B6E880\",\"#FF97FF\",\"#FECB52\"],\"font\":{\"color\":\"#2a3f5f\"},\"hovermode\":\"closest\",\"hoverlabel\":{\"align\":\"left\"},\"paper_bgcolor\":\"white\",\"plot_bgcolor\":\"#E5ECF6\",\"polar\":{\"bgcolor\":\"#E5ECF6\",\"angularaxis\":{\"gridcolor\":\"white\",\"linecolor\":\"white\",\"ticks\":\"\"},\"radialaxis\":{\"gridcolor\":\"white\",\"linecolor\":\"white\",\"ticks\":\"\"}},\"ternary\":{\"bgcolor\":\"#E5ECF6\",\"aaxis\":{\"gridcolor\":\"white\",\"linecolor\":\"white\",\"ticks\":\"\"},\"baxis\":{\"gridcolor\":\"white\",\"linecolor\":\"white\",\"ticks\":\"\"},\"caxis\":{\"gridcolor\":\"white\",\"linecolor\":\"white\",\"ticks\":\"\"}},\"coloraxis\":{\"colorbar\":{\"outlinewidth\":0,\"ticks\":\"\"}},\"colorscale\":{\"sequential\":[[0.0,\"#0d0887\"],[0.1111111111111111,\"#46039f\"],[0.2222222222222222,\"#7201a8\"],[0.3333333333333333,\"#9c179e\"],[0.4444444444444444,\"#bd3786\"],[0.5555555555555556,\"#d8576b\"],[0.6666666666666666,\"#ed7953\"],[0.7777777777777778,\"#fb9f3a\"],[0.8888888888888888,\"#fdca26\"],[1.0,\"#f0f921\"]],\"sequentialminus\":[[0.0,\"#0d0887\"],[0.1111111111111111,\"#46039f\"],[0.2222222222222222,\"#7201a8\"],[0.3333333333333333,\"#9c179e\"],[0.4444444444444444,\"#bd3786\"],[0.5555555555555556,\"#d8576b\"],[0.6666666666666666,\"#ed7953\"],[0.7777777777777778,\"#fb9f3a\"],[0.8888888888888888,\"#fdca26\"],[1.0,\"#f0f921\"]],\"diverging\":[[0,\"#8e0152\"],[0.1,\"#c51b7d\"],[0.2,\"#de77ae\"],[0.3,\"#f1b6da\"],[0.4,\"#fde0ef\"],[0.5,\"#f7f7f7\"],[0.6,\"#e6f5d0\"],[0.7,\"#b8e186\"],[0.8,\"#7fbc41\"],[0.9,\"#4d9221\"],[1,\"#276419\"]]},\"xaxis\":{\"gridcolor\":\"white\",\"linecolor\":\"white\",\"ticks\":\"\",\"title\":{\"standoff\":15},\"zerolinecolor\":\"white\",\"automargin\":true,\"zerolinewidth\":2},\"yaxis\":{\"gridcolor\":\"white\",\"linecolor\":\"white\",\"ticks\":\"\",\"title\":{\"standoff\":15},\"zerolinecolor\":\"white\",\"automargin\":true,\"zerolinewidth\":2},\"scene\":{\"xaxis\":{\"backgroundcolor\":\"#E5ECF6\",\"gridcolor\":\"white\",\"linecolor\":\"white\",\"showbackground\":true,\"ticks\":\"\",\"zerolinecolor\":\"white\",\"gridwidth\":2},\"yaxis\":{\"backgroundcolor\":\"#E5ECF6\",\"gridcolor\":\"white\",\"linecolor\":\"white\",\"showbackground\":true,\"ticks\":\"\",\"zerolinecolor\":\"white\",\"gridwidth\":2},\"zaxis\":{\"backgroundcolor\":\"#E5ECF6\",\"gridcolor\":\"white\",\"linecolor\":\"white\",\"showbackground\":true,\"ticks\":\"\",\"zerolinecolor\":\"white\",\"gridwidth\":2}},\"shapedefaults\":{\"line\":{\"color\":\"#2a3f5f\"}},\"annotationdefaults\":{\"arrowcolor\":\"#2a3f5f\",\"arrowhead\":0,\"arrowwidth\":1},\"geo\":{\"bgcolor\":\"white\",\"landcolor\":\"#E5ECF6\",\"subunitcolor\":\"white\",\"showland\":true,\"showlakes\":true,\"lakecolor\":\"white\"},\"title\":{\"x\":0.05},\"mapbox\":{\"style\":\"light\"}}},\"legend\":{\"tracegroupgap\":0},\"title\":{\"text\":\"Gender Percentages\"},\"piecolorway\":[\"#4287f5\",\"#f54287\"]},                        {\"responsive\": true}                    ).then(function(){\n",
       "                            \n",
       "var gd = document.getElementById('dfc6d153-50a5-41df-be10-bf7f3a699309');\n",
       "var x = new MutationObserver(function (mutations, observer) {{\n",
       "        var display = window.getComputedStyle(gd).display;\n",
       "        if (!display || display === 'none') {{\n",
       "            console.log([gd, 'removed!']);\n",
       "            Plotly.purge(gd);\n",
       "            observer.disconnect();\n",
       "        }}\n",
       "}});\n",
       "\n",
       "// Listen for the removal of the full notebook cells\n",
       "var notebookContainer = gd.closest('#notebook-container');\n",
       "if (notebookContainer) {{\n",
       "    x.observe(notebookContainer, {childList: true});\n",
       "}}\n",
       "\n",
       "// Listen for the clearing of the current output cell\n",
       "var outputEl = gd.closest('.output');\n",
       "if (outputEl) {{\n",
       "    x.observe(outputEl, {childList: true});\n",
       "}}\n",
       "\n",
       "                        })                };                            </script>        </div>\n",
       "</body>\n",
       "</html>"
      ]
     },
     "metadata": {},
     "output_type": "display_data"
    }
   ],
   "source": [
    "gender_counts = df['Gender'].value_counts()\n",
    "\n",
    "# Plot using Plotly\n",
    "\n",
    "fig = px.pie(\n",
    "    names = gender_counts.index,\n",
    "    values = gender_counts.values,\n",
    "    title=\"Gender Percentages\",\n",
    "    color_discrete_sequence=['#4287f5', '#f54287']\n",
    ").update_traces(textinfo='percent + label + value')\n",
    "\n",
    "fig.show()"
   ]
  },
  {
   "cell_type": "markdown",
   "id": "4065256a",
   "metadata": {
    "papermill": {
     "duration": 0.019574,
     "end_time": "2025-04-10T10:34:38.918124",
     "exception": false,
     "start_time": "2025-04-10T10:34:38.898550",
     "status": "completed"
    },
    "tags": []
   },
   "source": [
    "## **Age Column**"
   ]
  },
  {
   "cell_type": "code",
   "execution_count": 26,
   "id": "ea01392f",
   "metadata": {
    "execution": {
     "iopub.execute_input": "2025-04-10T10:34:38.957640Z",
     "iopub.status.busy": "2025-04-10T10:34:38.957227Z",
     "iopub.status.idle": "2025-04-10T10:34:38.967706Z",
     "shell.execute_reply": "2025-04-10T10:34:38.966574Z"
    },
    "papermill": {
     "duration": 0.032163,
     "end_time": "2025-04-10T10:34:38.969652",
     "exception": false,
     "start_time": "2025-04-10T10:34:38.937489",
     "status": "completed"
    },
    "tags": []
   },
   "outputs": [
    {
     "data": {
      "text/plain": [
       "count    10000.000000\n",
       "mean        38.921800\n",
       "std         10.487806\n",
       "min         18.000000\n",
       "25%         32.000000\n",
       "50%         37.000000\n",
       "75%         44.000000\n",
       "max         92.000000\n",
       "Name: Age, dtype: float64"
      ]
     },
     "execution_count": 26,
     "metadata": {},
     "output_type": "execute_result"
    }
   ],
   "source": [
    "df['Age'].describe()"
   ]
  },
  {
   "cell_type": "code",
   "execution_count": 27,
   "id": "cf8fa060",
   "metadata": {
    "execution": {
     "iopub.execute_input": "2025-04-10T10:34:39.009062Z",
     "iopub.status.busy": "2025-04-10T10:34:39.008569Z",
     "iopub.status.idle": "2025-04-10T10:34:39.279822Z",
     "shell.execute_reply": "2025-04-10T10:34:39.278583Z"
    },
    "papermill": {
     "duration": 0.292788,
     "end_time": "2025-04-10T10:34:39.282085",
     "exception": false,
     "start_time": "2025-04-10T10:34:38.989297",
     "status": "completed"
    },
    "tags": []
   },
   "outputs": [
    {
     "data": {
      "image/png": "[encoded data removed]",
      "text/plain": [
       "<Figure size 640x480 with 1 Axes>"
      ]
     },
     "metadata": {},
     "output_type": "display_data"
    }
   ],
   "source": [
    "bins = np.arange(18, 93, 5)\n",
    "sns.histplot(df['Age'], bins = bins, kde = True)\n",
    "plt.show()"
   ]
  },
  {
   "cell_type": "code",
   "execution_count": 28,
   "id": "de761b12",
   "metadata": {
    "execution": {
     "iopub.execute_input": "2025-04-10T10:34:39.322737Z",
     "iopub.status.busy": "2025-04-10T10:34:39.322322Z",
     "iopub.status.idle": "2025-04-10T10:34:39.337486Z",
     "shell.execute_reply": "2025-04-10T10:34:39.336393Z"
    },
    "papermill": {
     "duration": 0.037466,
     "end_time": "2025-04-10T10:34:39.339213",
     "exception": false,
     "start_time": "2025-04-10T10:34:39.301747",
     "status": "completed"
    },
    "tags": []
   },
   "outputs": [
    {
     "data": {
      "text/html": [
       "<div>\n",
       "<style scoped>\n",
       "    .dataframe tbody tr th:only-of-type {\n",
       "        vertical-align: middle;\n",
       "    }\n",
       "\n",
       "    .dataframe tbody tr th {\n",
       "        vertical-align: top;\n",
       "    }\n",
       "\n",
       "    .dataframe thead th {\n",
       "        text-align: right;\n",
       "    }\n",
       "</style>\n",
       "<table border=\"1\" class=\"dataframe\">\n",
       "  <thead>\n",
       "    <tr style=\"text-align: right;\">\n",
       "      <th></th>\n",
       "      <th>CustomerId</th>\n",
       "      <th>CreditScore</th>\n",
       "      <th>Geography</th>\n",
       "      <th>Gender</th>\n",
       "      <th>Age</th>\n",
       "      <th>Tenure</th>\n",
       "      <th>Balance</th>\n",
       "      <th>NumOfProducts</th>\n",
       "      <th>HasCrCard</th>\n",
       "      <th>IsActiveMember</th>\n",
       "      <th>EstimatedSalary</th>\n",
       "      <th>Exited</th>\n",
       "    </tr>\n",
       "    <tr>\n",
       "      <th>RowNumber</th>\n",
       "      <th></th>\n",
       "      <th></th>\n",
       "      <th></th>\n",
       "      <th></th>\n",
       "      <th></th>\n",
       "      <th></th>\n",
       "      <th></th>\n",
       "      <th></th>\n",
       "      <th></th>\n",
       "      <th></th>\n",
       "      <th></th>\n",
       "      <th></th>\n",
       "    </tr>\n",
       "  </thead>\n",
       "  <tbody>\n",
       "    <tr>\n",
       "      <th>2459</th>\n",
       "      <td>15813303</td>\n",
       "      <td>513</td>\n",
       "      <td>Spain</td>\n",
       "      <td>Male</td>\n",
       "      <td>88</td>\n",
       "      <td>10</td>\n",
       "      <td>0.00</td>\n",
       "      <td>2</td>\n",
       "      <td>1</td>\n",
       "      <td>1</td>\n",
       "      <td>52952.24</td>\n",
       "      <td>0</td>\n",
       "    </tr>\n",
       "    <tr>\n",
       "      <th>3034</th>\n",
       "      <td>15578006</td>\n",
       "      <td>787</td>\n",
       "      <td>France</td>\n",
       "      <td>Female</td>\n",
       "      <td>85</td>\n",
       "      <td>10</td>\n",
       "      <td>0.00</td>\n",
       "      <td>2</td>\n",
       "      <td>1</td>\n",
       "      <td>1</td>\n",
       "      <td>116537.96</td>\n",
       "      <td>0</td>\n",
       "    </tr>\n",
       "    <tr>\n",
       "      <th>6444</th>\n",
       "      <td>15764927</td>\n",
       "      <td>753</td>\n",
       "      <td>France</td>\n",
       "      <td>Male</td>\n",
       "      <td>92</td>\n",
       "      <td>3</td>\n",
       "      <td>121513.31</td>\n",
       "      <td>1</td>\n",
       "      <td>0</td>\n",
       "      <td>1</td>\n",
       "      <td>195563.99</td>\n",
       "      <td>0</td>\n",
       "    </tr>\n",
       "    <tr>\n",
       "      <th>6760</th>\n",
       "      <td>15660878</td>\n",
       "      <td>705</td>\n",
       "      <td>France</td>\n",
       "      <td>Male</td>\n",
       "      <td>92</td>\n",
       "      <td>1</td>\n",
       "      <td>126076.24</td>\n",
       "      <td>2</td>\n",
       "      <td>1</td>\n",
       "      <td>1</td>\n",
       "      <td>34436.83</td>\n",
       "      <td>0</td>\n",
       "    </tr>\n",
       "  </tbody>\n",
       "</table>\n",
       "</div>"
      ],
      "text/plain": [
       "           CustomerId  CreditScore Geography  Gender  Age  Tenure    Balance  \\\n",
       "RowNumber                                                                      \n",
       "2459         15813303          513     Spain    Male   88      10       0.00   \n",
       "3034         15578006          787    France  Female   85      10       0.00   \n",
       "6444         15764927          753    France    Male   92       3  121513.31   \n",
       "6760         15660878          705    France    Male   92       1  126076.24   \n",
       "\n",
       "           NumOfProducts  HasCrCard  IsActiveMember  EstimatedSalary  Exited  \n",
       "RowNumber                                                                     \n",
       "2459                   2          1               1         52952.24       0  \n",
       "3034                   2          1               1        116537.96       0  \n",
       "6444                   1          0               1        195563.99       0  \n",
       "6760                   2          1               1         34436.83       0  "
      ]
     },
     "execution_count": 28,
     "metadata": {},
     "output_type": "execute_result"
    }
   ],
   "source": [
    "df[df['Age'] >= 85]"
   ]
  },
  {
   "cell_type": "code",
   "execution_count": 29,
   "id": "8ba6c1fc",
   "metadata": {
    "execution": {
     "iopub.execute_input": "2025-04-10T10:34:39.378848Z",
     "iopub.status.busy": "2025-04-10T10:34:39.378393Z",
     "iopub.status.idle": "2025-04-10T10:34:39.716058Z",
     "shell.execute_reply": "2025-04-10T10:34:39.714740Z"
    },
    "papermill": {
     "duration": 0.35965,
     "end_time": "2025-04-10T10:34:39.718039",
     "exception": false,
     "start_time": "2025-04-10T10:34:39.358389",
     "status": "completed"
    },
    "tags": []
   },
   "outputs": [
    {
     "data": {
      "text/plain": [
       "<Axes: >"
      ]
     },
     "execution_count": 29,
     "metadata": {},
     "output_type": "execute_result"
    },
    {
     "data": {
      "image/png": "[encoded data removed]",
      "text/plain": [
       "<Figure size 640x480 with 1 Axes>"
      ]
     },
     "metadata": {},
     "output_type": "display_data"
    }
   ],
   "source": [
    "df['Age'].plot(kind = 'box')"
   ]
  },
  {
   "cell_type": "code",
   "execution_count": 30,
   "id": "0fb0fc68",
   "metadata": {
    "execution": {
     "iopub.execute_input": "2025-04-10T10:34:39.765824Z",
     "iopub.status.busy": "2025-04-10T10:34:39.765353Z",
     "iopub.status.idle": "2025-04-10T10:34:39.775178Z",
     "shell.execute_reply": "2025-04-10T10:34:39.774026Z"
    },
    "papermill": {
     "duration": 0.033223,
     "end_time": "2025-04-10T10:34:39.777007",
     "exception": false,
     "start_time": "2025-04-10T10:34:39.743784",
     "status": "completed"
    },
    "tags": []
   },
   "outputs": [
    {
     "name": "stdout",
     "output_type": "stream",
     "text": [
      "Lower bound is 14.0\n",
      "Upper bound is 62.0\n"
     ]
    }
   ],
   "source": [
    "# Detecting Outliers\n",
    "\n",
    "Q1 = df['Age'].quantile(0.25)\n",
    "Q3 = df['Age'].quantile(0.75)\n",
    "IQR = Q3 - Q1\n",
    "\n",
    "Lower_bound = Q1 -1.5*IQR\n",
    "Upper_bound = Q3 + 1.5*IQR\n",
    "\n",
    "print('Lower bound is', Lower_bound)\n",
    "print('Upper bound is', Upper_bound)"
   ]
  },
  {
   "cell_type": "code",
   "execution_count": 31,
   "id": "0df82dac",
   "metadata": {
    "execution": {
     "iopub.execute_input": "2025-04-10T10:34:39.820819Z",
     "iopub.status.busy": "2025-04-10T10:34:39.820387Z",
     "iopub.status.idle": "2025-04-10T10:34:39.838769Z",
     "shell.execute_reply": "2025-04-10T10:34:39.837363Z"
    },
    "papermill": {
     "duration": 0.042632,
     "end_time": "2025-04-10T10:34:39.840658",
     "exception": false,
     "start_time": "2025-04-10T10:34:39.798026",
     "status": "completed"
    },
    "tags": []
   },
   "outputs": [
    {
     "data": {
      "text/html": [
       "<div>\n",
       "<style scoped>\n",
       "    .dataframe tbody tr th:only-of-type {\n",
       "        vertical-align: middle;\n",
       "    }\n",
       "\n",
       "    .dataframe tbody tr th {\n",
       "        vertical-align: top;\n",
       "    }\n",
       "\n",
       "    .dataframe thead th {\n",
       "        text-align: right;\n",
       "    }\n",
       "</style>\n",
       "<table border=\"1\" class=\"dataframe\">\n",
       "  <thead>\n",
       "    <tr style=\"text-align: right;\">\n",
       "      <th></th>\n",
       "      <th>CustomerId</th>\n",
       "      <th>CreditScore</th>\n",
       "      <th>Geography</th>\n",
       "      <th>Gender</th>\n",
       "      <th>Age</th>\n",
       "      <th>Tenure</th>\n",
       "      <th>Balance</th>\n",
       "      <th>NumOfProducts</th>\n",
       "      <th>HasCrCard</th>\n",
       "      <th>IsActiveMember</th>\n",
       "      <th>EstimatedSalary</th>\n",
       "      <th>Exited</th>\n",
       "    </tr>\n",
       "    <tr>\n",
       "      <th>RowNumber</th>\n",
       "      <th></th>\n",
       "      <th></th>\n",
       "      <th></th>\n",
       "      <th></th>\n",
       "      <th></th>\n",
       "      <th></th>\n",
       "      <th></th>\n",
       "      <th></th>\n",
       "      <th></th>\n",
       "      <th></th>\n",
       "      <th></th>\n",
       "      <th></th>\n",
       "    </tr>\n",
       "  </thead>\n",
       "  <tbody>\n",
       "    <tr>\n",
       "      <th>59</th>\n",
       "      <td>15623944</td>\n",
       "      <td>511</td>\n",
       "      <td>Spain</td>\n",
       "      <td>Female</td>\n",
       "      <td>66</td>\n",
       "      <td>4</td>\n",
       "      <td>0.00</td>\n",
       "      <td>1</td>\n",
       "      <td>1</td>\n",
       "      <td>0</td>\n",
       "      <td>1643.11</td>\n",
       "      <td>1</td>\n",
       "    </tr>\n",
       "    <tr>\n",
       "      <th>86</th>\n",
       "      <td>15805254</td>\n",
       "      <td>652</td>\n",
       "      <td>Spain</td>\n",
       "      <td>Female</td>\n",
       "      <td>75</td>\n",
       "      <td>10</td>\n",
       "      <td>0.00</td>\n",
       "      <td>2</td>\n",
       "      <td>1</td>\n",
       "      <td>1</td>\n",
       "      <td>114675.75</td>\n",
       "      <td>0</td>\n",
       "    </tr>\n",
       "    <tr>\n",
       "      <th>105</th>\n",
       "      <td>15804919</td>\n",
       "      <td>670</td>\n",
       "      <td>Spain</td>\n",
       "      <td>Female</td>\n",
       "      <td>65</td>\n",
       "      <td>1</td>\n",
       "      <td>0.00</td>\n",
       "      <td>1</td>\n",
       "      <td>1</td>\n",
       "      <td>1</td>\n",
       "      <td>177655.68</td>\n",
       "      <td>1</td>\n",
       "    </tr>\n",
       "    <tr>\n",
       "      <th>159</th>\n",
       "      <td>15589975</td>\n",
       "      <td>646</td>\n",
       "      <td>France</td>\n",
       "      <td>Female</td>\n",
       "      <td>73</td>\n",
       "      <td>6</td>\n",
       "      <td>97259.25</td>\n",
       "      <td>1</td>\n",
       "      <td>0</td>\n",
       "      <td>1</td>\n",
       "      <td>104719.66</td>\n",
       "      <td>0</td>\n",
       "    </tr>\n",
       "    <tr>\n",
       "      <th>182</th>\n",
       "      <td>15789669</td>\n",
       "      <td>510</td>\n",
       "      <td>France</td>\n",
       "      <td>Male</td>\n",
       "      <td>65</td>\n",
       "      <td>2</td>\n",
       "      <td>0.00</td>\n",
       "      <td>2</td>\n",
       "      <td>1</td>\n",
       "      <td>1</td>\n",
       "      <td>48071.61</td>\n",
       "      <td>0</td>\n",
       "    </tr>\n",
       "    <tr>\n",
       "      <th>...</th>\n",
       "      <td>...</td>\n",
       "      <td>...</td>\n",
       "      <td>...</td>\n",
       "      <td>...</td>\n",
       "      <td>...</td>\n",
       "      <td>...</td>\n",
       "      <td>...</td>\n",
       "      <td>...</td>\n",
       "      <td>...</td>\n",
       "      <td>...</td>\n",
       "      <td>...</td>\n",
       "      <td>...</td>\n",
       "    </tr>\n",
       "    <tr>\n",
       "      <th>9754</th>\n",
       "      <td>15705174</td>\n",
       "      <td>656</td>\n",
       "      <td>Germany</td>\n",
       "      <td>Male</td>\n",
       "      <td>68</td>\n",
       "      <td>7</td>\n",
       "      <td>153545.11</td>\n",
       "      <td>1</td>\n",
       "      <td>1</td>\n",
       "      <td>1</td>\n",
       "      <td>186574.68</td>\n",
       "      <td>0</td>\n",
       "    </tr>\n",
       "    <tr>\n",
       "      <th>9766</th>\n",
       "      <td>15777067</td>\n",
       "      <td>445</td>\n",
       "      <td>France</td>\n",
       "      <td>Male</td>\n",
       "      <td>64</td>\n",
       "      <td>2</td>\n",
       "      <td>136770.67</td>\n",
       "      <td>1</td>\n",
       "      <td>0</td>\n",
       "      <td>1</td>\n",
       "      <td>43678.06</td>\n",
       "      <td>0</td>\n",
       "    </tr>\n",
       "    <tr>\n",
       "      <th>9833</th>\n",
       "      <td>15814690</td>\n",
       "      <td>595</td>\n",
       "      <td>Germany</td>\n",
       "      <td>Female</td>\n",
       "      <td>64</td>\n",
       "      <td>2</td>\n",
       "      <td>105736.32</td>\n",
       "      <td>1</td>\n",
       "      <td>1</td>\n",
       "      <td>1</td>\n",
       "      <td>89935.73</td>\n",
       "      <td>1</td>\n",
       "    </tr>\n",
       "    <tr>\n",
       "      <th>9895</th>\n",
       "      <td>15704795</td>\n",
       "      <td>521</td>\n",
       "      <td>France</td>\n",
       "      <td>Female</td>\n",
       "      <td>77</td>\n",
       "      <td>6</td>\n",
       "      <td>0.00</td>\n",
       "      <td>2</td>\n",
       "      <td>1</td>\n",
       "      <td>1</td>\n",
       "      <td>49054.10</td>\n",
       "      <td>0</td>\n",
       "    </tr>\n",
       "    <tr>\n",
       "      <th>9937</th>\n",
       "      <td>15653037</td>\n",
       "      <td>609</td>\n",
       "      <td>France</td>\n",
       "      <td>Male</td>\n",
       "      <td>77</td>\n",
       "      <td>1</td>\n",
       "      <td>0.00</td>\n",
       "      <td>1</td>\n",
       "      <td>0</td>\n",
       "      <td>1</td>\n",
       "      <td>18708.76</td>\n",
       "      <td>0</td>\n",
       "    </tr>\n",
       "  </tbody>\n",
       "</table>\n",
       "<p>359 rows × 12 columns</p>\n",
       "</div>"
      ],
      "text/plain": [
       "           CustomerId  CreditScore Geography  Gender  Age  Tenure    Balance  \\\n",
       "RowNumber                                                                      \n",
       "59           15623944          511     Spain  Female   66       4       0.00   \n",
       "86           15805254          652     Spain  Female   75      10       0.00   \n",
       "105          15804919          670     Spain  Female   65       1       0.00   \n",
       "159          15589975          646    France  Female   73       6   97259.25   \n",
       "182          15789669          510    France    Male   65       2       0.00   \n",
       "...               ...          ...       ...     ...  ...     ...        ...   \n",
       "9754         15705174          656   Germany    Male   68       7  153545.11   \n",
       "9766         15777067          445    France    Male   64       2  136770.67   \n",
       "9833         15814690          595   Germany  Female   64       2  105736.32   \n",
       "9895         15704795          521    France  Female   77       6       0.00   \n",
       "9937         15653037          609    France    Male   77       1       0.00   \n",
       "\n",
       "           NumOfProducts  HasCrCard  IsActiveMember  EstimatedSalary  Exited  \n",
       "RowNumber                                                                     \n",
       "59                     1          1               0          1643.11       1  \n",
       "86                     2          1               1        114675.75       0  \n",
       "105                    1          1               1        177655.68       1  \n",
       "159                    1          0               1        104719.66       0  \n",
       "182                    2          1               1         48071.61       0  \n",
       "...                  ...        ...             ...              ...     ...  \n",
       "9754                   1          1               1        186574.68       0  \n",
       "9766                   1          0               1         43678.06       0  \n",
       "9833                   1          1               1         89935.73       1  \n",
       "9895                   2          1               1         49054.10       0  \n",
       "9937                   1          0               1         18708.76       0  \n",
       "\n",
       "[359 rows x 12 columns]"
      ]
     },
     "execution_count": 31,
     "metadata": {},
     "output_type": "execute_result"
    }
   ],
   "source": [
    "df[df['Age'] > Upper_bound]"
   ]
  },
  {
   "cell_type": "markdown",
   "id": "f6d80e0f",
   "metadata": {
    "papermill": {
     "duration": 0.02178,
     "end_time": "2025-04-10T10:34:39.883595",
     "exception": false,
     "start_time": "2025-04-10T10:34:39.861815",
     "status": "completed"
    },
    "tags": []
   },
   "source": [
    "## **Tenure Column**"
   ]
  },
  {
   "cell_type": "code",
   "execution_count": 32,
   "id": "2680aa44",
   "metadata": {
    "execution": {
     "iopub.execute_input": "2025-04-10T10:34:39.928532Z",
     "iopub.status.busy": "2025-04-10T10:34:39.928076Z",
     "iopub.status.idle": "2025-04-10T10:34:39.940156Z",
     "shell.execute_reply": "2025-04-10T10:34:39.939012Z"
    },
    "papermill": {
     "duration": 0.036642,
     "end_time": "2025-04-10T10:34:39.942107",
     "exception": false,
     "start_time": "2025-04-10T10:34:39.905465",
     "status": "completed"
    },
    "tags": []
   },
   "outputs": [
    {
     "data": {
      "text/plain": [
       "count    10000.000000\n",
       "mean         5.012800\n",
       "std          2.892174\n",
       "min          0.000000\n",
       "25%          3.000000\n",
       "50%          5.000000\n",
       "75%          7.000000\n",
       "max         10.000000\n",
       "Name: Tenure, dtype: float64"
      ]
     },
     "execution_count": 32,
     "metadata": {},
     "output_type": "execute_result"
    }
   ],
   "source": [
    "df['Tenure'].describe()"
   ]
  },
  {
   "cell_type": "code",
   "execution_count": 33,
   "id": "bb69bbf1",
   "metadata": {
    "execution": {
     "iopub.execute_input": "2025-04-10T10:34:39.986138Z",
     "iopub.status.busy": "2025-04-10T10:34:39.985746Z",
     "iopub.status.idle": "2025-04-10T10:34:39.995503Z",
     "shell.execute_reply": "2025-04-10T10:34:39.994466Z"
    },
    "papermill": {
     "duration": 0.033612,
     "end_time": "2025-04-10T10:34:39.997253",
     "exception": false,
     "start_time": "2025-04-10T10:34:39.963641",
     "status": "completed"
    },
    "tags": []
   },
   "outputs": [
    {
     "data": {
      "text/plain": [
       "Tenure\n",
       "2     1048\n",
       "1     1035\n",
       "7     1028\n",
       "8     1025\n",
       "5     1012\n",
       "3     1009\n",
       "4      989\n",
       "9      984\n",
       "6      967\n",
       "10     490\n",
       "0      413\n",
       "Name: count, dtype: int64"
      ]
     },
     "execution_count": 33,
     "metadata": {},
     "output_type": "execute_result"
    }
   ],
   "source": [
    "Tenure_count = df['Tenure'].value_counts()\n",
    "Tenure_count"
   ]
  },
  {
   "cell_type": "code",
   "execution_count": 34,
   "id": "8d6228cf",
   "metadata": {
    "execution": {
     "iopub.execute_input": "2025-04-10T10:34:40.041814Z",
     "iopub.status.busy": "2025-04-10T10:34:40.041366Z",
     "iopub.status.idle": "2025-04-10T10:34:40.371321Z",
     "shell.execute_reply": "2025-04-10T10:34:40.369847Z"
    },
    "papermill": {
     "duration": 0.354727,
     "end_time": "2025-04-10T10:34:40.373470",
     "exception": false,
     "start_time": "2025-04-10T10:34:40.018743",
     "status": "completed"
    },
    "tags": []
   },
   "outputs": [
    {
     "data": {
      "image/png": "[encoded data removed]",
      "text/plain": [
       "<Figure size 1200x600 with 1 Axes>"
      ]
     },
     "metadata": {},
     "output_type": "display_data"
    }
   ],
   "source": [
    "# Tenure: Number of years the customer has been with the bank.\n",
    "\n",
    "plt.figure(figsize = (12, 6))\n",
    "sns.barplot(x = df['Tenure'].value_counts().index,\n",
    "            y = df['Tenure'].value_counts())\n",
    "plt.title('Customer loyalty')\n",
    "plt.xlabel('Years stayed with the bank')\n",
    "plt.ylabel('Customers Count')\n",
    "\n",
    "# Display text over bar charts\n",
    "for i in range(len(Tenure_count)):\n",
    "    plt.text(i, Tenure_count[i] + 7, Tenure_count[i], ha = 'center')\n",
    "\n",
    "plt.title('Customer Loyality')\n",
    "\n",
    "plt.tight_layout()\n",
    "plt.show()"
   ]
  },
  {
   "cell_type": "markdown",
   "id": "809b8dca",
   "metadata": {
    "papermill": {
     "duration": 0.026394,
     "end_time": "2025-04-10T10:34:40.431503",
     "exception": false,
     "start_time": "2025-04-10T10:34:40.405109",
     "status": "completed"
    },
    "tags": []
   },
   "source": [
    "## **Balance Column**"
   ]
  },
  {
   "cell_type": "code",
   "execution_count": 35,
   "id": "9c457735",
   "metadata": {
    "execution": {
     "iopub.execute_input": "2025-04-10T10:34:40.484830Z",
     "iopub.status.busy": "2025-04-10T10:34:40.484370Z",
     "iopub.status.idle": "2025-04-10T10:34:40.495058Z",
     "shell.execute_reply": "2025-04-10T10:34:40.493907Z"
    },
    "papermill": {
     "duration": 0.03589,
     "end_time": "2025-04-10T10:34:40.496964",
     "exception": false,
     "start_time": "2025-04-10T10:34:40.461074",
     "status": "completed"
    },
    "tags": []
   },
   "outputs": [
    {
     "data": {
      "text/plain": [
       "count     10000.000000\n",
       "mean      76485.889288\n",
       "std       62397.405202\n",
       "min           0.000000\n",
       "25%           0.000000\n",
       "50%       97198.540000\n",
       "75%      127644.240000\n",
       "max      250898.090000\n",
       "Name: Balance, dtype: float64"
      ]
     },
     "execution_count": 35,
     "metadata": {},
     "output_type": "execute_result"
    }
   ],
   "source": [
    "df['Balance'].describe()"
   ]
  },
  {
   "cell_type": "code",
   "execution_count": 36,
   "id": "22400d0e",
   "metadata": {
    "execution": {
     "iopub.execute_input": "2025-04-10T10:34:40.543651Z",
     "iopub.status.busy": "2025-04-10T10:34:40.543246Z",
     "iopub.status.idle": "2025-04-10T10:34:40.796347Z",
     "shell.execute_reply": "2025-04-10T10:34:40.795242Z"
    },
    "papermill": {
     "duration": 0.278317,
     "end_time": "2025-04-10T10:34:40.798147",
     "exception": false,
     "start_time": "2025-04-10T10:34:40.519830",
     "status": "completed"
    },
    "tags": []
   },
   "outputs": [
    {
     "data": {
      "image/png": "[encoded data removed]",
      "text/plain": [
       "<Figure size 640x480 with 1 Axes>"
      ]
     },
     "metadata": {},
     "output_type": "display_data"
    }
   ],
   "source": [
    "sns.histplot(df['Balance'], kde = True)\n",
    "plt.show()"
   ]
  },
  {
   "cell_type": "code",
   "execution_count": 37,
   "id": "971c78e1",
   "metadata": {
    "execution": {
     "iopub.execute_input": "2025-04-10T10:34:40.846920Z",
     "iopub.status.busy": "2025-04-10T10:34:40.846459Z",
     "iopub.status.idle": "2025-04-10T10:34:40.864950Z",
     "shell.execute_reply": "2025-04-10T10:34:40.863920Z"
    },
    "papermill": {
     "duration": 0.044742,
     "end_time": "2025-04-10T10:34:40.866771",
     "exception": false,
     "start_time": "2025-04-10T10:34:40.822029",
     "status": "completed"
    },
    "tags": []
   },
   "outputs": [
    {
     "data": {
      "text/html": [
       "<div>\n",
       "<style scoped>\n",
       "    .dataframe tbody tr th:only-of-type {\n",
       "        vertical-align: middle;\n",
       "    }\n",
       "\n",
       "    .dataframe tbody tr th {\n",
       "        vertical-align: top;\n",
       "    }\n",
       "\n",
       "    .dataframe thead th {\n",
       "        text-align: right;\n",
       "    }\n",
       "</style>\n",
       "<table border=\"1\" class=\"dataframe\">\n",
       "  <thead>\n",
       "    <tr style=\"text-align: right;\">\n",
       "      <th></th>\n",
       "      <th>CustomerId</th>\n",
       "      <th>CreditScore</th>\n",
       "      <th>Geography</th>\n",
       "      <th>Gender</th>\n",
       "      <th>Age</th>\n",
       "      <th>Tenure</th>\n",
       "      <th>Balance</th>\n",
       "      <th>NumOfProducts</th>\n",
       "      <th>HasCrCard</th>\n",
       "      <th>IsActiveMember</th>\n",
       "      <th>EstimatedSalary</th>\n",
       "      <th>Exited</th>\n",
       "    </tr>\n",
       "    <tr>\n",
       "      <th>RowNumber</th>\n",
       "      <th></th>\n",
       "      <th></th>\n",
       "      <th></th>\n",
       "      <th></th>\n",
       "      <th></th>\n",
       "      <th></th>\n",
       "      <th></th>\n",
       "      <th></th>\n",
       "      <th></th>\n",
       "      <th></th>\n",
       "      <th></th>\n",
       "      <th></th>\n",
       "    </tr>\n",
       "  </thead>\n",
       "  <tbody>\n",
       "    <tr>\n",
       "      <th>1</th>\n",
       "      <td>15634602</td>\n",
       "      <td>619</td>\n",
       "      <td>France</td>\n",
       "      <td>Female</td>\n",
       "      <td>42</td>\n",
       "      <td>2</td>\n",
       "      <td>0.0</td>\n",
       "      <td>1</td>\n",
       "      <td>1</td>\n",
       "      <td>1</td>\n",
       "      <td>101348.88</td>\n",
       "      <td>1</td>\n",
       "    </tr>\n",
       "    <tr>\n",
       "      <th>4</th>\n",
       "      <td>15701354</td>\n",
       "      <td>699</td>\n",
       "      <td>France</td>\n",
       "      <td>Female</td>\n",
       "      <td>39</td>\n",
       "      <td>1</td>\n",
       "      <td>0.0</td>\n",
       "      <td>2</td>\n",
       "      <td>0</td>\n",
       "      <td>0</td>\n",
       "      <td>93826.63</td>\n",
       "      <td>0</td>\n",
       "    </tr>\n",
       "    <tr>\n",
       "      <th>7</th>\n",
       "      <td>15592531</td>\n",
       "      <td>822</td>\n",
       "      <td>France</td>\n",
       "      <td>Male</td>\n",
       "      <td>50</td>\n",
       "      <td>7</td>\n",
       "      <td>0.0</td>\n",
       "      <td>2</td>\n",
       "      <td>1</td>\n",
       "      <td>1</td>\n",
       "      <td>10062.80</td>\n",
       "      <td>0</td>\n",
       "    </tr>\n",
       "    <tr>\n",
       "      <th>12</th>\n",
       "      <td>15737173</td>\n",
       "      <td>497</td>\n",
       "      <td>Spain</td>\n",
       "      <td>Male</td>\n",
       "      <td>24</td>\n",
       "      <td>3</td>\n",
       "      <td>0.0</td>\n",
       "      <td>2</td>\n",
       "      <td>1</td>\n",
       "      <td>0</td>\n",
       "      <td>76390.01</td>\n",
       "      <td>0</td>\n",
       "    </tr>\n",
       "    <tr>\n",
       "      <th>13</th>\n",
       "      <td>15632264</td>\n",
       "      <td>476</td>\n",
       "      <td>France</td>\n",
       "      <td>Female</td>\n",
       "      <td>34</td>\n",
       "      <td>10</td>\n",
       "      <td>0.0</td>\n",
       "      <td>2</td>\n",
       "      <td>1</td>\n",
       "      <td>0</td>\n",
       "      <td>26260.98</td>\n",
       "      <td>0</td>\n",
       "    </tr>\n",
       "    <tr>\n",
       "      <th>...</th>\n",
       "      <td>...</td>\n",
       "      <td>...</td>\n",
       "      <td>...</td>\n",
       "      <td>...</td>\n",
       "      <td>...</td>\n",
       "      <td>...</td>\n",
       "      <td>...</td>\n",
       "      <td>...</td>\n",
       "      <td>...</td>\n",
       "      <td>...</td>\n",
       "      <td>...</td>\n",
       "      <td>...</td>\n",
       "    </tr>\n",
       "    <tr>\n",
       "      <th>9990</th>\n",
       "      <td>15605622</td>\n",
       "      <td>841</td>\n",
       "      <td>Spain</td>\n",
       "      <td>Male</td>\n",
       "      <td>28</td>\n",
       "      <td>4</td>\n",
       "      <td>0.0</td>\n",
       "      <td>2</td>\n",
       "      <td>1</td>\n",
       "      <td>1</td>\n",
       "      <td>179436.60</td>\n",
       "      <td>0</td>\n",
       "    </tr>\n",
       "    <tr>\n",
       "      <th>9993</th>\n",
       "      <td>15657105</td>\n",
       "      <td>726</td>\n",
       "      <td>Spain</td>\n",
       "      <td>Male</td>\n",
       "      <td>36</td>\n",
       "      <td>2</td>\n",
       "      <td>0.0</td>\n",
       "      <td>1</td>\n",
       "      <td>1</td>\n",
       "      <td>0</td>\n",
       "      <td>195192.40</td>\n",
       "      <td>0</td>\n",
       "    </tr>\n",
       "    <tr>\n",
       "      <th>9995</th>\n",
       "      <td>15719294</td>\n",
       "      <td>800</td>\n",
       "      <td>France</td>\n",
       "      <td>Female</td>\n",
       "      <td>29</td>\n",
       "      <td>2</td>\n",
       "      <td>0.0</td>\n",
       "      <td>2</td>\n",
       "      <td>0</td>\n",
       "      <td>0</td>\n",
       "      <td>167773.55</td>\n",
       "      <td>0</td>\n",
       "    </tr>\n",
       "    <tr>\n",
       "      <th>9996</th>\n",
       "      <td>15606229</td>\n",
       "      <td>771</td>\n",
       "      <td>France</td>\n",
       "      <td>Male</td>\n",
       "      <td>39</td>\n",
       "      <td>5</td>\n",
       "      <td>0.0</td>\n",
       "      <td>2</td>\n",
       "      <td>1</td>\n",
       "      <td>0</td>\n",
       "      <td>96270.64</td>\n",
       "      <td>0</td>\n",
       "    </tr>\n",
       "    <tr>\n",
       "      <th>9998</th>\n",
       "      <td>15584532</td>\n",
       "      <td>709</td>\n",
       "      <td>France</td>\n",
       "      <td>Female</td>\n",
       "      <td>36</td>\n",
       "      <td>7</td>\n",
       "      <td>0.0</td>\n",
       "      <td>1</td>\n",
       "      <td>0</td>\n",
       "      <td>1</td>\n",
       "      <td>42085.58</td>\n",
       "      <td>1</td>\n",
       "    </tr>\n",
       "  </tbody>\n",
       "</table>\n",
       "<p>3617 rows × 12 columns</p>\n",
       "</div>"
      ],
      "text/plain": [
       "           CustomerId  CreditScore Geography  Gender  Age  Tenure  Balance  \\\n",
       "RowNumber                                                                    \n",
       "1            15634602          619    France  Female   42       2      0.0   \n",
       "4            15701354          699    France  Female   39       1      0.0   \n",
       "7            15592531          822    France    Male   50       7      0.0   \n",
       "12           15737173          497     Spain    Male   24       3      0.0   \n",
       "13           15632264          476    France  Female   34      10      0.0   \n",
       "...               ...          ...       ...     ...  ...     ...      ...   \n",
       "9990         15605622          841     Spain    Male   28       4      0.0   \n",
       "9993         15657105          726     Spain    Male   36       2      0.0   \n",
       "9995         15719294          800    France  Female   29       2      0.0   \n",
       "9996         15606229          771    France    Male   39       5      0.0   \n",
       "9998         15584532          709    France  Female   36       7      0.0   \n",
       "\n",
       "           NumOfProducts  HasCrCard  IsActiveMember  EstimatedSalary  Exited  \n",
       "RowNumber                                                                     \n",
       "1                      1          1               1        101348.88       1  \n",
       "4                      2          0               0         93826.63       0  \n",
       "7                      2          1               1         10062.80       0  \n",
       "12                     2          1               0         76390.01       0  \n",
       "13                     2          1               0         26260.98       0  \n",
       "...                  ...        ...             ...              ...     ...  \n",
       "9990                   2          1               1        179436.60       0  \n",
       "9993                   1          1               0        195192.40       0  \n",
       "9995                   2          0               0        167773.55       0  \n",
       "9996                   2          1               0         96270.64       0  \n",
       "9998                   1          0               1         42085.58       1  \n",
       "\n",
       "[3617 rows x 12 columns]"
      ]
     },
     "execution_count": 37,
     "metadata": {},
     "output_type": "execute_result"
    }
   ],
   "source": [
    "df[df['Balance'] == 0]"
   ]
  },
  {
   "cell_type": "markdown",
   "id": "bfcc1b2b",
   "metadata": {
    "papermill": {
     "duration": 0.024788,
     "end_time": "2025-04-10T10:34:40.915872",
     "exception": false,
     "start_time": "2025-04-10T10:34:40.891084",
     "status": "completed"
    },
    "tags": []
   },
   "source": [
    "## **NumOfProducts Column**"
   ]
  },
  {
   "cell_type": "code",
   "execution_count": 38,
   "id": "8238a927",
   "metadata": {
    "execution": {
     "iopub.execute_input": "2025-04-10T10:34:40.965363Z",
     "iopub.status.busy": "2025-04-10T10:34:40.964909Z",
     "iopub.status.idle": "2025-04-10T10:34:40.976071Z",
     "shell.execute_reply": "2025-04-10T10:34:40.974699Z"
    },
    "papermill": {
     "duration": 0.038639,
     "end_time": "2025-04-10T10:34:40.978032",
     "exception": false,
     "start_time": "2025-04-10T10:34:40.939393",
     "status": "completed"
    },
    "tags": []
   },
   "outputs": [
    {
     "data": {
      "text/plain": [
       "count    10000.000000\n",
       "mean         1.530200\n",
       "std          0.581654\n",
       "min          1.000000\n",
       "25%          1.000000\n",
       "50%          1.000000\n",
       "75%          2.000000\n",
       "max          4.000000\n",
       "Name: NumOfProducts, dtype: float64"
      ]
     },
     "execution_count": 38,
     "metadata": {},
     "output_type": "execute_result"
    }
   ],
   "source": [
    "df['NumOfProducts'].describe()"
   ]
  },
  {
   "cell_type": "code",
   "execution_count": 39,
   "id": "92c1f3b1",
   "metadata": {
    "execution": {
     "iopub.execute_input": "2025-04-10T10:34:41.028411Z",
     "iopub.status.busy": "2025-04-10T10:34:41.027947Z",
     "iopub.status.idle": "2025-04-10T10:34:41.035921Z",
     "shell.execute_reply": "2025-04-10T10:34:41.034681Z"
    },
    "papermill": {
     "duration": 0.035294,
     "end_time": "2025-04-10T10:34:41.037789",
     "exception": false,
     "start_time": "2025-04-10T10:34:41.002495",
     "status": "completed"
    },
    "tags": []
   },
   "outputs": [
    {
     "data": {
      "text/plain": [
       "NumOfProducts\n",
       "1    5084\n",
       "2    4590\n",
       "3     266\n",
       "4      60\n",
       "Name: count, dtype: int64"
      ]
     },
     "execution_count": 39,
     "metadata": {},
     "output_type": "execute_result"
    }
   ],
   "source": [
    "products_count = df['NumOfProducts'].value_counts()\n",
    "products_count"
   ]
  },
  {
   "cell_type": "code",
   "execution_count": 40,
   "id": "274502c1",
   "metadata": {
    "execution": {
     "iopub.execute_input": "2025-04-10T10:34:41.087453Z",
     "iopub.status.busy": "2025-04-10T10:34:41.087021Z",
     "iopub.status.idle": "2025-04-10T10:34:41.487752Z",
     "shell.execute_reply": "2025-04-10T10:34:41.486618Z"
    },
    "papermill": {
     "duration": 0.428029,
     "end_time": "2025-04-10T10:34:41.489872",
     "exception": false,
     "start_time": "2025-04-10T10:34:41.061843",
     "status": "completed"
    },
    "tags": []
   },
   "outputs": [
    {
     "data": {
      "image/png": "[encoded data removed]",
      "text/plain": [
       "<Figure size 1200x600 with 2 Axes>"
      ]
     },
     "metadata": {},
     "output_type": "display_data"
    }
   ],
   "source": [
    "NumOfProducts_count = df['NumOfProducts'].value_counts()\n",
    "\n",
    "plt.figure(figsize = (12, 6))\n",
    "\n",
    "plt.subplot(1, 2, 1)\n",
    "sns.barplot(x = df['NumOfProducts'].value_counts().index,\n",
    "            y = df['NumOfProducts'].value_counts())\n",
    "plt.title('Frequency of Products bought')\n",
    "plt.xlabel('Number of Products')\n",
    "plt.ylabel('Frequency')\n",
    "\n",
    "# Display text over bar charts\n",
    "for i in range(len(NumOfProducts_count)):\n",
    "    plt.text(i, NumOfProducts_count.iloc[i] + 7, NumOfProducts_count.iloc[i], ha='center')\n",
    "\n",
    "\n",
    "plt.subplot(1, 2, 2)\n",
    "plt.pie(x = df['NumOfProducts'].value_counts(),\n",
    "        labels = df['NumOfProducts'].value_counts().index,\n",
    "        explode = [0, 0, 0, 0.1],\n",
    "        normalize = True,\n",
    "        shadow = True)\n",
    "\n",
    "plt.title('Number Products purchased')\n",
    "plt.tight_layout()\n",
    "plt.show()"
   ]
  },
  {
   "cell_type": "code",
   "execution_count": 41,
   "id": "2b2cb616",
   "metadata": {
    "execution": {
     "iopub.execute_input": "2025-04-10T10:34:41.541803Z",
     "iopub.status.busy": "2025-04-10T10:34:41.541415Z",
     "iopub.status.idle": "2025-04-10T10:34:41.550074Z",
     "shell.execute_reply": "2025-04-10T10:34:41.548814Z"
    },
    "papermill": {
     "duration": 0.036866,
     "end_time": "2025-04-10T10:34:41.552247",
     "exception": false,
     "start_time": "2025-04-10T10:34:41.515381",
     "status": "completed"
    },
    "tags": []
   },
   "outputs": [
    {
     "data": {
      "text/plain": [
       "NumOfProducts\n",
       "1    50.84\n",
       "2    45.90\n",
       "3     2.66\n",
       "4     0.60\n",
       "Name: proportion, dtype: float64"
      ]
     },
     "execution_count": 41,
     "metadata": {},
     "output_type": "execute_result"
    }
   ],
   "source": [
    "products_percent = df['NumOfProducts'].value_counts(normalize = True)*100\n",
    "products_percent"
   ]
  },
  {
   "cell_type": "code",
   "execution_count": 42,
   "id": "be6ddccb",
   "metadata": {
    "execution": {
     "iopub.execute_input": "2025-04-10T10:34:41.604956Z",
     "iopub.status.busy": "2025-04-10T10:34:41.604563Z",
     "iopub.status.idle": "2025-04-10T10:34:41.615089Z",
     "shell.execute_reply": "2025-04-10T10:34:41.613839Z"
    },
    "papermill": {
     "duration": 0.03901,
     "end_time": "2025-04-10T10:34:41.616880",
     "exception": false,
     "start_time": "2025-04-10T10:34:41.577870",
     "status": "completed"
    },
    "tags": []
   },
   "outputs": [
    {
     "data": {
      "text/html": [
       "<div>\n",
       "<style scoped>\n",
       "    .dataframe tbody tr th:only-of-type {\n",
       "        vertical-align: middle;\n",
       "    }\n",
       "\n",
       "    .dataframe tbody tr th {\n",
       "        vertical-align: top;\n",
       "    }\n",
       "\n",
       "    .dataframe thead th {\n",
       "        text-align: right;\n",
       "    }\n",
       "</style>\n",
       "<table border=\"1\" class=\"dataframe\">\n",
       "  <thead>\n",
       "    <tr style=\"text-align: right;\">\n",
       "      <th></th>\n",
       "      <th>Count</th>\n",
       "      <th>Percentage%</th>\n",
       "    </tr>\n",
       "    <tr>\n",
       "      <th>NumOfProducts</th>\n",
       "      <th></th>\n",
       "      <th></th>\n",
       "    </tr>\n",
       "  </thead>\n",
       "  <tbody>\n",
       "    <tr>\n",
       "      <th>1</th>\n",
       "      <td>5084</td>\n",
       "      <td>50.84</td>\n",
       "    </tr>\n",
       "    <tr>\n",
       "      <th>2</th>\n",
       "      <td>4590</td>\n",
       "      <td>45.90</td>\n",
       "    </tr>\n",
       "    <tr>\n",
       "      <th>3</th>\n",
       "      <td>266</td>\n",
       "      <td>2.66</td>\n",
       "    </tr>\n",
       "    <tr>\n",
       "      <th>4</th>\n",
       "      <td>60</td>\n",
       "      <td>0.60</td>\n",
       "    </tr>\n",
       "  </tbody>\n",
       "</table>\n",
       "</div>"
      ],
      "text/plain": [
       "               Count  Percentage%\n",
       "NumOfProducts                    \n",
       "1               5084        50.84\n",
       "2               4590        45.90\n",
       "3                266         2.66\n",
       "4                 60         0.60"
      ]
     },
     "execution_count": 42,
     "metadata": {},
     "output_type": "execute_result"
    }
   ],
   "source": [
    "# Frequency Table\n",
    "freq_table = pd.DataFrame(data = {'Count': products_count, 'Percentage%': products_percent})\n",
    "freq_table"
   ]
  },
  {
   "cell_type": "code",
   "execution_count": 43,
   "id": "329c1674",
   "metadata": {
    "execution": {
     "iopub.execute_input": "2025-04-10T10:34:41.670115Z",
     "iopub.status.busy": "2025-04-10T10:34:41.669660Z",
     "iopub.status.idle": "2025-04-10T10:34:41.788670Z",
     "shell.execute_reply": "2025-04-10T10:34:41.787457Z"
    },
    "papermill": {
     "duration": 0.147106,
     "end_time": "2025-04-10T10:34:41.790338",
     "exception": false,
     "start_time": "2025-04-10T10:34:41.643232",
     "status": "completed"
    },
    "tags": []
   },
   "outputs": [
    {
     "data": {
      "image/png": "[encoded data removed]",
      "text/plain": [
       "<Figure size 640x480 with 1 Axes>"
      ]
     },
     "metadata": {},
     "output_type": "display_data"
    }
   ],
   "source": [
    "plt.pie(x = df['HasCrCard'].value_counts(),\n",
    "        labels = df['HasCrCard'].value_counts().index,\n",
    "        explode = [0, 0.1],\n",
    "        normalize = True,\n",
    "        shadow = True)\n",
    "\n",
    "plt.title('Frequency of Customers who hold Credit Cards')\n",
    "plt.show()"
   ]
  },
  {
   "cell_type": "code",
   "execution_count": 44,
   "id": "742a42d4",
   "metadata": {
    "execution": {
     "iopub.execute_input": "2025-04-10T10:34:41.844220Z",
     "iopub.status.busy": "2025-04-10T10:34:41.843758Z",
     "iopub.status.idle": "2025-04-10T10:34:41.851354Z",
     "shell.execute_reply": "2025-04-10T10:34:41.850373Z"
    },
    "papermill": {
     "duration": 0.036107,
     "end_time": "2025-04-10T10:34:41.852936",
     "exception": false,
     "start_time": "2025-04-10T10:34:41.816829",
     "status": "completed"
    },
    "tags": []
   },
   "outputs": [
    {
     "data": {
      "text/plain": [
       "Exited\n",
       "0    7963\n",
       "1    2037\n",
       "Name: count, dtype: int64"
      ]
     },
     "execution_count": 44,
     "metadata": {},
     "output_type": "execute_result"
    }
   ],
   "source": [
    "df['Exited'].value_counts()"
   ]
  },
  {
   "cell_type": "code",
   "execution_count": 45,
   "id": "e972ead4",
   "metadata": {
    "execution": {
     "iopub.execute_input": "2025-04-10T10:34:41.907017Z",
     "iopub.status.busy": "2025-04-10T10:34:41.906621Z",
     "iopub.status.idle": "2025-04-10T10:34:41.915141Z",
     "shell.execute_reply": "2025-04-10T10:34:41.914029Z"
    },
    "papermill": {
     "duration": 0.037754,
     "end_time": "2025-04-10T10:34:41.917178",
     "exception": false,
     "start_time": "2025-04-10T10:34:41.879424",
     "status": "completed"
    },
    "tags": []
   },
   "outputs": [
    {
     "data": {
      "text/plain": [
       "Exited\n",
       "0    79.63\n",
       "1    20.37\n",
       "Name: proportion, dtype: float64"
      ]
     },
     "execution_count": 45,
     "metadata": {},
     "output_type": "execute_result"
    }
   ],
   "source": [
    "df['Exited'].value_counts(normalize = True)*100"
   ]
  },
  {
   "cell_type": "code",
   "execution_count": 46,
   "id": "5d4ea62f",
   "metadata": {
    "execution": {
     "iopub.execute_input": "2025-04-10T10:34:41.975355Z",
     "iopub.status.busy": "2025-04-10T10:34:41.974988Z",
     "iopub.status.idle": "2025-04-10T10:34:42.106839Z",
     "shell.execute_reply": "2025-04-10T10:34:42.105720Z"
    },
    "papermill": {
     "duration": 0.164583,
     "end_time": "2025-04-10T10:34:42.108844",
     "exception": false,
     "start_time": "2025-04-10T10:34:41.944261",
     "status": "completed"
    },
    "tags": []
   },
   "outputs": [
    {
     "data": {
      "image/png": "[encoded data removed]",
      "text/plain": [
       "<Figure size 640x480 with 1 Axes>"
      ]
     },
     "metadata": {},
     "output_type": "display_data"
    }
   ],
   "source": [
    "plt.pie(x = df['Exited'].value_counts(),\n",
    "        labels = df['Exited'].value_counts().index,\n",
    "        explode = [0, 0.1],\n",
    "        normalize = True,\n",
    "        shadow = True)\n",
    "\n",
    "plt.title('Frequency of Customers Exited')\n",
    "plt.show()"
   ]
  },
  {
   "cell_type": "code",
   "execution_count": 47,
   "id": "e9d429e0",
   "metadata": {
    "execution": {
     "iopub.execute_input": "2025-04-10T10:34:42.166190Z",
     "iopub.status.busy": "2025-04-10T10:34:42.165814Z",
     "iopub.status.idle": "2025-04-10T10:34:42.177603Z",
     "shell.execute_reply": "2025-04-10T10:34:42.176538Z"
    },
    "papermill": {
     "duration": 0.042661,
     "end_time": "2025-04-10T10:34:42.179422",
     "exception": false,
     "start_time": "2025-04-10T10:34:42.136761",
     "status": "completed"
    },
    "tags": []
   },
   "outputs": [
    {
     "data": {
      "text/plain": [
       "count     10000.000000\n",
       "mean     100090.239881\n",
       "std       57510.492818\n",
       "min          11.580000\n",
       "25%       51002.110000\n",
       "50%      100193.915000\n",
       "75%      149388.247500\n",
       "max      199992.480000\n",
       "Name: EstimatedSalary, dtype: float64"
      ]
     },
     "execution_count": 47,
     "metadata": {},
     "output_type": "execute_result"
    }
   ],
   "source": [
    "df['EstimatedSalary'].describe()"
   ]
  },
  {
   "cell_type": "code",
   "execution_count": 48,
   "id": "8b913c7a",
   "metadata": {
    "execution": {
     "iopub.execute_input": "2025-04-10T10:34:42.237956Z",
     "iopub.status.busy": "2025-04-10T10:34:42.237582Z",
     "iopub.status.idle": "2025-04-10T10:34:42.483894Z",
     "shell.execute_reply": "2025-04-10T10:34:42.482716Z"
    },
    "papermill": {
     "duration": 0.277819,
     "end_time": "2025-04-10T10:34:42.485911",
     "exception": false,
     "start_time": "2025-04-10T10:34:42.208092",
     "status": "completed"
    },
    "tags": []
   },
   "outputs": [
    {
     "data": {
      "image/png": "[encoded data removed]",
      "text/plain": [
       "<Figure size 640x480 with 1 Axes>"
      ]
     },
     "metadata": {},
     "output_type": "display_data"
    }
   ],
   "source": [
    "sns.kdeplot(df['EstimatedSalary'])\n",
    "plt.title('Estimated Salary Distribution')\n",
    "plt.show()\n",
    "# Normal Distribution"
   ]
  },
  {
   "cell_type": "markdown",
   "id": "278e926e",
   "metadata": {
    "papermill": {
     "duration": 0.028122,
     "end_time": "2025-04-10T10:34:42.543605",
     "exception": false,
     "start_time": "2025-04-10T10:34:42.515483",
     "status": "completed"
    },
    "tags": []
   },
   "source": [
    "# **Data Preprocessing**"
   ]
  },
  {
   "cell_type": "code",
   "execution_count": 49,
   "id": "93e53950",
   "metadata": {
    "execution": {
     "iopub.execute_input": "2025-04-10T10:34:42.601337Z",
     "iopub.status.busy": "2025-04-10T10:34:42.600938Z",
     "iopub.status.idle": "2025-04-10T10:34:42.607591Z",
     "shell.execute_reply": "2025-04-10T10:34:42.606426Z"
    },
    "papermill": {
     "duration": 0.037706,
     "end_time": "2025-04-10T10:34:42.609470",
     "exception": false,
     "start_time": "2025-04-10T10:34:42.571764",
     "status": "completed"
    },
    "tags": []
   },
   "outputs": [],
   "source": [
    "X = df.iloc[:, :-1]\n",
    "y = df.iloc[:, -1]"
   ]
  },
  {
   "cell_type": "code",
   "execution_count": 50,
   "id": "72feb48c",
   "metadata": {
    "execution": {
     "iopub.execute_input": "2025-04-10T10:34:42.668773Z",
     "iopub.status.busy": "2025-04-10T10:34:42.668363Z",
     "iopub.status.idle": "2025-04-10T10:34:42.684775Z",
     "shell.execute_reply": "2025-04-10T10:34:42.683545Z"
    },
    "papermill": {
     "duration": 0.048657,
     "end_time": "2025-04-10T10:34:42.686573",
     "exception": false,
     "start_time": "2025-04-10T10:34:42.637916",
     "status": "completed"
    },
    "tags": []
   },
   "outputs": [
    {
     "data": {
      "text/html": [
       "<div>\n",
       "<style scoped>\n",
       "    .dataframe tbody tr th:only-of-type {\n",
       "        vertical-align: middle;\n",
       "    }\n",
       "\n",
       "    .dataframe tbody tr th {\n",
       "        vertical-align: top;\n",
       "    }\n",
       "\n",
       "    .dataframe thead th {\n",
       "        text-align: right;\n",
       "    }\n",
       "</style>\n",
       "<table border=\"1\" class=\"dataframe\">\n",
       "  <thead>\n",
       "    <tr style=\"text-align: right;\">\n",
       "      <th></th>\n",
       "      <th>CustomerId</th>\n",
       "      <th>CreditScore</th>\n",
       "      <th>Geography</th>\n",
       "      <th>Gender</th>\n",
       "      <th>Age</th>\n",
       "      <th>Tenure</th>\n",
       "      <th>Balance</th>\n",
       "      <th>NumOfProducts</th>\n",
       "      <th>HasCrCard</th>\n",
       "      <th>IsActiveMember</th>\n",
       "      <th>EstimatedSalary</th>\n",
       "    </tr>\n",
       "    <tr>\n",
       "      <th>RowNumber</th>\n",
       "      <th></th>\n",
       "      <th></th>\n",
       "      <th></th>\n",
       "      <th></th>\n",
       "      <th></th>\n",
       "      <th></th>\n",
       "      <th></th>\n",
       "      <th></th>\n",
       "      <th></th>\n",
       "      <th></th>\n",
       "      <th></th>\n",
       "    </tr>\n",
       "  </thead>\n",
       "  <tbody>\n",
       "    <tr>\n",
       "      <th>1</th>\n",
       "      <td>15634602</td>\n",
       "      <td>619</td>\n",
       "      <td>France</td>\n",
       "      <td>Female</td>\n",
       "      <td>42</td>\n",
       "      <td>2</td>\n",
       "      <td>0.00</td>\n",
       "      <td>1</td>\n",
       "      <td>1</td>\n",
       "      <td>1</td>\n",
       "      <td>101348.88</td>\n",
       "    </tr>\n",
       "    <tr>\n",
       "      <th>2</th>\n",
       "      <td>15647311</td>\n",
       "      <td>608</td>\n",
       "      <td>Spain</td>\n",
       "      <td>Female</td>\n",
       "      <td>41</td>\n",
       "      <td>1</td>\n",
       "      <td>83807.86</td>\n",
       "      <td>1</td>\n",
       "      <td>0</td>\n",
       "      <td>1</td>\n",
       "      <td>112542.58</td>\n",
       "    </tr>\n",
       "    <tr>\n",
       "      <th>3</th>\n",
       "      <td>15619304</td>\n",
       "      <td>502</td>\n",
       "      <td>France</td>\n",
       "      <td>Female</td>\n",
       "      <td>42</td>\n",
       "      <td>8</td>\n",
       "      <td>159660.80</td>\n",
       "      <td>3</td>\n",
       "      <td>1</td>\n",
       "      <td>0</td>\n",
       "      <td>113931.57</td>\n",
       "    </tr>\n",
       "    <tr>\n",
       "      <th>4</th>\n",
       "      <td>15701354</td>\n",
       "      <td>699</td>\n",
       "      <td>France</td>\n",
       "      <td>Female</td>\n",
       "      <td>39</td>\n",
       "      <td>1</td>\n",
       "      <td>0.00</td>\n",
       "      <td>2</td>\n",
       "      <td>0</td>\n",
       "      <td>0</td>\n",
       "      <td>93826.63</td>\n",
       "    </tr>\n",
       "    <tr>\n",
       "      <th>5</th>\n",
       "      <td>15737888</td>\n",
       "      <td>850</td>\n",
       "      <td>Spain</td>\n",
       "      <td>Female</td>\n",
       "      <td>43</td>\n",
       "      <td>2</td>\n",
       "      <td>125510.82</td>\n",
       "      <td>1</td>\n",
       "      <td>1</td>\n",
       "      <td>1</td>\n",
       "      <td>79084.10</td>\n",
       "    </tr>\n",
       "    <tr>\n",
       "      <th>...</th>\n",
       "      <td>...</td>\n",
       "      <td>...</td>\n",
       "      <td>...</td>\n",
       "      <td>...</td>\n",
       "      <td>...</td>\n",
       "      <td>...</td>\n",
       "      <td>...</td>\n",
       "      <td>...</td>\n",
       "      <td>...</td>\n",
       "      <td>...</td>\n",
       "      <td>...</td>\n",
       "    </tr>\n",
       "    <tr>\n",
       "      <th>9996</th>\n",
       "      <td>15606229</td>\n",
       "      <td>771</td>\n",
       "      <td>France</td>\n",
       "      <td>Male</td>\n",
       "      <td>39</td>\n",
       "      <td>5</td>\n",
       "      <td>0.00</td>\n",
       "      <td>2</td>\n",
       "      <td>1</td>\n",
       "      <td>0</td>\n",
       "      <td>96270.64</td>\n",
       "    </tr>\n",
       "    <tr>\n",
       "      <th>9997</th>\n",
       "      <td>15569892</td>\n",
       "      <td>516</td>\n",
       "      <td>France</td>\n",
       "      <td>Male</td>\n",
       "      <td>35</td>\n",
       "      <td>10</td>\n",
       "      <td>57369.61</td>\n",
       "      <td>1</td>\n",
       "      <td>1</td>\n",
       "      <td>1</td>\n",
       "      <td>101699.77</td>\n",
       "    </tr>\n",
       "    <tr>\n",
       "      <th>9998</th>\n",
       "      <td>15584532</td>\n",
       "      <td>709</td>\n",
       "      <td>France</td>\n",
       "      <td>Female</td>\n",
       "      <td>36</td>\n",
       "      <td>7</td>\n",
       "      <td>0.00</td>\n",
       "      <td>1</td>\n",
       "      <td>0</td>\n",
       "      <td>1</td>\n",
       "      <td>42085.58</td>\n",
       "    </tr>\n",
       "    <tr>\n",
       "      <th>9999</th>\n",
       "      <td>15682355</td>\n",
       "      <td>772</td>\n",
       "      <td>Germany</td>\n",
       "      <td>Male</td>\n",
       "      <td>42</td>\n",
       "      <td>3</td>\n",
       "      <td>75075.31</td>\n",
       "      <td>2</td>\n",
       "      <td>1</td>\n",
       "      <td>0</td>\n",
       "      <td>92888.52</td>\n",
       "    </tr>\n",
       "    <tr>\n",
       "      <th>10000</th>\n",
       "      <td>15628319</td>\n",
       "      <td>792</td>\n",
       "      <td>France</td>\n",
       "      <td>Female</td>\n",
       "      <td>28</td>\n",
       "      <td>4</td>\n",
       "      <td>130142.79</td>\n",
       "      <td>1</td>\n",
       "      <td>1</td>\n",
       "      <td>0</td>\n",
       "      <td>38190.78</td>\n",
       "    </tr>\n",
       "  </tbody>\n",
       "</table>\n",
       "<p>10000 rows × 11 columns</p>\n",
       "</div>"
      ],
      "text/plain": [
       "           CustomerId  CreditScore Geography  Gender  Age  Tenure    Balance  \\\n",
       "RowNumber                                                                      \n",
       "1            15634602          619    France  Female   42       2       0.00   \n",
       "2            15647311          608     Spain  Female   41       1   83807.86   \n",
       "3            15619304          502    France  Female   42       8  159660.80   \n",
       "4            15701354          699    France  Female   39       1       0.00   \n",
       "5            15737888          850     Spain  Female   43       2  125510.82   \n",
       "...               ...          ...       ...     ...  ...     ...        ...   \n",
       "9996         15606229          771    France    Male   39       5       0.00   \n",
       "9997         15569892          516    France    Male   35      10   57369.61   \n",
       "9998         15584532          709    France  Female   36       7       0.00   \n",
       "9999         15682355          772   Germany    Male   42       3   75075.31   \n",
       "10000        15628319          792    France  Female   28       4  130142.79   \n",
       "\n",
       "           NumOfProducts  HasCrCard  IsActiveMember  EstimatedSalary  \n",
       "RowNumber                                                             \n",
       "1                      1          1               1        101348.88  \n",
       "2                      1          0               1        112542.58  \n",
       "3                      3          1               0        113931.57  \n",
       "4                      2          0               0         93826.63  \n",
       "5                      1          1               1         79084.10  \n",
       "...                  ...        ...             ...              ...  \n",
       "9996                   2          1               0         96270.64  \n",
       "9997                   1          1               1        101699.77  \n",
       "9998                   1          0               1         42085.58  \n",
       "9999                   2          1               0         92888.52  \n",
       "10000                  1          1               0         38190.78  \n",
       "\n",
       "[10000 rows x 11 columns]"
      ]
     },
     "execution_count": 50,
     "metadata": {},
     "output_type": "execute_result"
    }
   ],
   "source": [
    "X"
   ]
  },
  {
   "cell_type": "code",
   "execution_count": 51,
   "id": "f06776f4",
   "metadata": {
    "execution": {
     "iopub.execute_input": "2025-04-10T10:34:42.745791Z",
     "iopub.status.busy": "2025-04-10T10:34:42.745374Z",
     "iopub.status.idle": "2025-04-10T10:34:42.753312Z",
     "shell.execute_reply": "2025-04-10T10:34:42.752289Z"
    },
    "papermill": {
     "duration": 0.039262,
     "end_time": "2025-04-10T10:34:42.755252",
     "exception": false,
     "start_time": "2025-04-10T10:34:42.715990",
     "status": "completed"
    },
    "tags": []
   },
   "outputs": [
    {
     "data": {
      "text/plain": [
       "RowNumber\n",
       "1        1\n",
       "2        0\n",
       "3        1\n",
       "4        0\n",
       "5        0\n",
       "        ..\n",
       "9996     0\n",
       "9997     0\n",
       "9998     1\n",
       "9999     1\n",
       "10000    0\n",
       "Name: Exited, Length: 10000, dtype: int64"
      ]
     },
     "execution_count": 51,
     "metadata": {},
     "output_type": "execute_result"
    }
   ],
   "source": [
    "y"
   ]
  },
  {
   "cell_type": "code",
   "execution_count": 52,
   "id": "1fdd61a2",
   "metadata": {
    "execution": {
     "iopub.execute_input": "2025-04-10T10:34:42.814673Z",
     "iopub.status.busy": "2025-04-10T10:34:42.814218Z",
     "iopub.status.idle": "2025-04-10T10:34:43.004343Z",
     "shell.execute_reply": "2025-04-10T10:34:43.003234Z"
    },
    "papermill": {
     "duration": 0.222286,
     "end_time": "2025-04-10T10:34:43.006601",
     "exception": false,
     "start_time": "2025-04-10T10:34:42.784315",
     "status": "completed"
    },
    "tags": []
   },
   "outputs": [],
   "source": [
    "from sklearn.preprocessing import LabelEncoder"
   ]
  },
  {
   "cell_type": "code",
   "execution_count": 53,
   "id": "bf8feee5",
   "metadata": {
    "execution": {
     "iopub.execute_input": "2025-04-10T10:34:43.065737Z",
     "iopub.status.busy": "2025-04-10T10:34:43.065336Z",
     "iopub.status.idle": "2025-04-10T10:34:43.073524Z",
     "shell.execute_reply": "2025-04-10T10:34:43.072254Z"
    },
    "papermill": {
     "duration": 0.039608,
     "end_time": "2025-04-10T10:34:43.075388",
     "exception": false,
     "start_time": "2025-04-10T10:34:43.035780",
     "status": "completed"
    },
    "tags": []
   },
   "outputs": [],
   "source": [
    "encoder = LabelEncoder()\n",
    "df['Geography'] = encoder.fit_transform(df['Geography'])"
   ]
  },
  {
   "cell_type": "code",
   "execution_count": 54,
   "id": "02cf4f43",
   "metadata": {
    "execution": {
     "iopub.execute_input": "2025-04-10T10:34:43.135717Z",
     "iopub.status.busy": "2025-04-10T10:34:43.135291Z",
     "iopub.status.idle": "2025-04-10T10:34:43.149649Z",
     "shell.execute_reply": "2025-04-10T10:34:43.148409Z"
    },
    "papermill": {
     "duration": 0.045669,
     "end_time": "2025-04-10T10:34:43.151331",
     "exception": false,
     "start_time": "2025-04-10T10:34:43.105662",
     "status": "completed"
    },
    "tags": []
   },
   "outputs": [
    {
     "data": {
      "text/html": [
       "<div>\n",
       "<style scoped>\n",
       "    .dataframe tbody tr th:only-of-type {\n",
       "        vertical-align: middle;\n",
       "    }\n",
       "\n",
       "    .dataframe tbody tr th {\n",
       "        vertical-align: top;\n",
       "    }\n",
       "\n",
       "    .dataframe thead th {\n",
       "        text-align: right;\n",
       "    }\n",
       "</style>\n",
       "<table border=\"1\" class=\"dataframe\">\n",
       "  <thead>\n",
       "    <tr style=\"text-align: right;\">\n",
       "      <th></th>\n",
       "      <th>CustomerId</th>\n",
       "      <th>CreditScore</th>\n",
       "      <th>Geography</th>\n",
       "      <th>Gender</th>\n",
       "      <th>Age</th>\n",
       "      <th>Tenure</th>\n",
       "      <th>Balance</th>\n",
       "      <th>NumOfProducts</th>\n",
       "      <th>HasCrCard</th>\n",
       "      <th>IsActiveMember</th>\n",
       "      <th>EstimatedSalary</th>\n",
       "      <th>Exited</th>\n",
       "    </tr>\n",
       "    <tr>\n",
       "      <th>RowNumber</th>\n",
       "      <th></th>\n",
       "      <th></th>\n",
       "      <th></th>\n",
       "      <th></th>\n",
       "      <th></th>\n",
       "      <th></th>\n",
       "      <th></th>\n",
       "      <th></th>\n",
       "      <th></th>\n",
       "      <th></th>\n",
       "      <th></th>\n",
       "      <th></th>\n",
       "    </tr>\n",
       "  </thead>\n",
       "  <tbody>\n",
       "    <tr>\n",
       "      <th>1</th>\n",
       "      <td>15634602</td>\n",
       "      <td>619</td>\n",
       "      <td>0</td>\n",
       "      <td>Female</td>\n",
       "      <td>42</td>\n",
       "      <td>2</td>\n",
       "      <td>0.00</td>\n",
       "      <td>1</td>\n",
       "      <td>1</td>\n",
       "      <td>1</td>\n",
       "      <td>101348.88</td>\n",
       "      <td>1</td>\n",
       "    </tr>\n",
       "    <tr>\n",
       "      <th>2</th>\n",
       "      <td>15647311</td>\n",
       "      <td>608</td>\n",
       "      <td>2</td>\n",
       "      <td>Female</td>\n",
       "      <td>41</td>\n",
       "      <td>1</td>\n",
       "      <td>83807.86</td>\n",
       "      <td>1</td>\n",
       "      <td>0</td>\n",
       "      <td>1</td>\n",
       "      <td>112542.58</td>\n",
       "      <td>0</td>\n",
       "    </tr>\n",
       "    <tr>\n",
       "      <th>3</th>\n",
       "      <td>15619304</td>\n",
       "      <td>502</td>\n",
       "      <td>0</td>\n",
       "      <td>Female</td>\n",
       "      <td>42</td>\n",
       "      <td>8</td>\n",
       "      <td>159660.80</td>\n",
       "      <td>3</td>\n",
       "      <td>1</td>\n",
       "      <td>0</td>\n",
       "      <td>113931.57</td>\n",
       "      <td>1</td>\n",
       "    </tr>\n",
       "    <tr>\n",
       "      <th>4</th>\n",
       "      <td>15701354</td>\n",
       "      <td>699</td>\n",
       "      <td>0</td>\n",
       "      <td>Female</td>\n",
       "      <td>39</td>\n",
       "      <td>1</td>\n",
       "      <td>0.00</td>\n",
       "      <td>2</td>\n",
       "      <td>0</td>\n",
       "      <td>0</td>\n",
       "      <td>93826.63</td>\n",
       "      <td>0</td>\n",
       "    </tr>\n",
       "    <tr>\n",
       "      <th>5</th>\n",
       "      <td>15737888</td>\n",
       "      <td>850</td>\n",
       "      <td>2</td>\n",
       "      <td>Female</td>\n",
       "      <td>43</td>\n",
       "      <td>2</td>\n",
       "      <td>125510.82</td>\n",
       "      <td>1</td>\n",
       "      <td>1</td>\n",
       "      <td>1</td>\n",
       "      <td>79084.10</td>\n",
       "      <td>0</td>\n",
       "    </tr>\n",
       "  </tbody>\n",
       "</table>\n",
       "</div>"
      ],
      "text/plain": [
       "           CustomerId  CreditScore  Geography  Gender  Age  Tenure    Balance  \\\n",
       "RowNumber                                                                       \n",
       "1            15634602          619          0  Female   42       2       0.00   \n",
       "2            15647311          608          2  Female   41       1   83807.86   \n",
       "3            15619304          502          0  Female   42       8  159660.80   \n",
       "4            15701354          699          0  Female   39       1       0.00   \n",
       "5            15737888          850          2  Female   43       2  125510.82   \n",
       "\n",
       "           NumOfProducts  HasCrCard  IsActiveMember  EstimatedSalary  Exited  \n",
       "RowNumber                                                                     \n",
       "1                      1          1               1        101348.88       1  \n",
       "2                      1          0               1        112542.58       0  \n",
       "3                      3          1               0        113931.57       1  \n",
       "4                      2          0               0         93826.63       0  \n",
       "5                      1          1               1         79084.10       0  "
      ]
     },
     "execution_count": 54,
     "metadata": {},
     "output_type": "execute_result"
    }
   ],
   "source": [
    "df.head()"
   ]
  },
  {
   "cell_type": "code",
   "execution_count": 55,
   "id": "34ead8ad",
   "metadata": {
    "execution": {
     "iopub.execute_input": "2025-04-10T10:34:43.211073Z",
     "iopub.status.busy": "2025-04-10T10:34:43.210680Z",
     "iopub.status.idle": "2025-04-10T10:34:43.218370Z",
     "shell.execute_reply": "2025-04-10T10:34:43.217019Z"
    },
    "papermill": {
     "duration": 0.0397,
     "end_time": "2025-04-10T10:34:43.220402",
     "exception": false,
     "start_time": "2025-04-10T10:34:43.180702",
     "status": "completed"
    },
    "tags": []
   },
   "outputs": [],
   "source": [
    "encoder = LabelEncoder()\n",
    "df['Gender'] = encoder.fit_transform(df['Gender'])"
   ]
  },
  {
   "cell_type": "code",
   "execution_count": 56,
   "id": "f6e92f39",
   "metadata": {
    "execution": {
     "iopub.execute_input": "2025-04-10T10:34:43.283516Z",
     "iopub.status.busy": "2025-04-10T10:34:43.283116Z",
     "iopub.status.idle": "2025-04-10T10:34:43.296987Z",
     "shell.execute_reply": "2025-04-10T10:34:43.296001Z"
    },
    "papermill": {
     "duration": 0.045953,
     "end_time": "2025-04-10T10:34:43.298884",
     "exception": false,
     "start_time": "2025-04-10T10:34:43.252931",
     "status": "completed"
    },
    "tags": []
   },
   "outputs": [
    {
     "data": {
      "text/html": [
       "<div>\n",
       "<style scoped>\n",
       "    .dataframe tbody tr th:only-of-type {\n",
       "        vertical-align: middle;\n",
       "    }\n",
       "\n",
       "    .dataframe tbody tr th {\n",
       "        vertical-align: top;\n",
       "    }\n",
       "\n",
       "    .dataframe thead th {\n",
       "        text-align: right;\n",
       "    }\n",
       "</style>\n",
       "<table border=\"1\" class=\"dataframe\">\n",
       "  <thead>\n",
       "    <tr style=\"text-align: right;\">\n",
       "      <th></th>\n",
       "      <th>CustomerId</th>\n",
       "      <th>CreditScore</th>\n",
       "      <th>Geography</th>\n",
       "      <th>Gender</th>\n",
       "      <th>Age</th>\n",
       "      <th>Tenure</th>\n",
       "      <th>Balance</th>\n",
       "      <th>NumOfProducts</th>\n",
       "      <th>HasCrCard</th>\n",
       "      <th>IsActiveMember</th>\n",
       "      <th>EstimatedSalary</th>\n",
       "      <th>Exited</th>\n",
       "    </tr>\n",
       "    <tr>\n",
       "      <th>RowNumber</th>\n",
       "      <th></th>\n",
       "      <th></th>\n",
       "      <th></th>\n",
       "      <th></th>\n",
       "      <th></th>\n",
       "      <th></th>\n",
       "      <th></th>\n",
       "      <th></th>\n",
       "      <th></th>\n",
       "      <th></th>\n",
       "      <th></th>\n",
       "      <th></th>\n",
       "    </tr>\n",
       "  </thead>\n",
       "  <tbody>\n",
       "    <tr>\n",
       "      <th>1</th>\n",
       "      <td>15634602</td>\n",
       "      <td>619</td>\n",
       "      <td>0</td>\n",
       "      <td>0</td>\n",
       "      <td>42</td>\n",
       "      <td>2</td>\n",
       "      <td>0.00</td>\n",
       "      <td>1</td>\n",
       "      <td>1</td>\n",
       "      <td>1</td>\n",
       "      <td>101348.88</td>\n",
       "      <td>1</td>\n",
       "    </tr>\n",
       "    <tr>\n",
       "      <th>2</th>\n",
       "      <td>15647311</td>\n",
       "      <td>608</td>\n",
       "      <td>2</td>\n",
       "      <td>0</td>\n",
       "      <td>41</td>\n",
       "      <td>1</td>\n",
       "      <td>83807.86</td>\n",
       "      <td>1</td>\n",
       "      <td>0</td>\n",
       "      <td>1</td>\n",
       "      <td>112542.58</td>\n",
       "      <td>0</td>\n",
       "    </tr>\n",
       "    <tr>\n",
       "      <th>3</th>\n",
       "      <td>15619304</td>\n",
       "      <td>502</td>\n",
       "      <td>0</td>\n",
       "      <td>0</td>\n",
       "      <td>42</td>\n",
       "      <td>8</td>\n",
       "      <td>159660.80</td>\n",
       "      <td>3</td>\n",
       "      <td>1</td>\n",
       "      <td>0</td>\n",
       "      <td>113931.57</td>\n",
       "      <td>1</td>\n",
       "    </tr>\n",
       "    <tr>\n",
       "      <th>4</th>\n",
       "      <td>15701354</td>\n",
       "      <td>699</td>\n",
       "      <td>0</td>\n",
       "      <td>0</td>\n",
       "      <td>39</td>\n",
       "      <td>1</td>\n",
       "      <td>0.00</td>\n",
       "      <td>2</td>\n",
       "      <td>0</td>\n",
       "      <td>0</td>\n",
       "      <td>93826.63</td>\n",
       "      <td>0</td>\n",
       "    </tr>\n",
       "    <tr>\n",
       "      <th>5</th>\n",
       "      <td>15737888</td>\n",
       "      <td>850</td>\n",
       "      <td>2</td>\n",
       "      <td>0</td>\n",
       "      <td>43</td>\n",
       "      <td>2</td>\n",
       "      <td>125510.82</td>\n",
       "      <td>1</td>\n",
       "      <td>1</td>\n",
       "      <td>1</td>\n",
       "      <td>79084.10</td>\n",
       "      <td>0</td>\n",
       "    </tr>\n",
       "  </tbody>\n",
       "</table>\n",
       "</div>"
      ],
      "text/plain": [
       "           CustomerId  CreditScore  Geography  Gender  Age  Tenure    Balance  \\\n",
       "RowNumber                                                                       \n",
       "1            15634602          619          0       0   42       2       0.00   \n",
       "2            15647311          608          2       0   41       1   83807.86   \n",
       "3            15619304          502          0       0   42       8  159660.80   \n",
       "4            15701354          699          0       0   39       1       0.00   \n",
       "5            15737888          850          2       0   43       2  125510.82   \n",
       "\n",
       "           NumOfProducts  HasCrCard  IsActiveMember  EstimatedSalary  Exited  \n",
       "RowNumber                                                                     \n",
       "1                      1          1               1        101348.88       1  \n",
       "2                      1          0               1        112542.58       0  \n",
       "3                      3          1               0        113931.57       1  \n",
       "4                      2          0               0         93826.63       0  \n",
       "5                      1          1               1         79084.10       0  "
      ]
     },
     "execution_count": 56,
     "metadata": {},
     "output_type": "execute_result"
    }
   ],
   "source": [
    "df.head()"
   ]
  },
  {
   "cell_type": "code",
   "execution_count": 57,
   "id": "75d7c9f4",
   "metadata": {
    "execution": {
     "iopub.execute_input": "2025-04-10T10:34:43.361708Z",
     "iopub.status.busy": "2025-04-10T10:34:43.361275Z",
     "iopub.status.idle": "2025-04-10T10:34:43.385724Z",
     "shell.execute_reply": "2025-04-10T10:34:43.384557Z"
    },
    "papermill": {
     "duration": 0.058636,
     "end_time": "2025-04-10T10:34:43.387991",
     "exception": false,
     "start_time": "2025-04-10T10:34:43.329355",
     "status": "completed"
    },
    "tags": []
   },
   "outputs": [
    {
     "data": {
      "text/html": [
       "<div>\n",
       "<style scoped>\n",
       "    .dataframe tbody tr th:only-of-type {\n",
       "        vertical-align: middle;\n",
       "    }\n",
       "\n",
       "    .dataframe tbody tr th {\n",
       "        vertical-align: top;\n",
       "    }\n",
       "\n",
       "    .dataframe thead th {\n",
       "        text-align: right;\n",
       "    }\n",
       "</style>\n",
       "<table border=\"1\" class=\"dataframe\">\n",
       "  <thead>\n",
       "    <tr style=\"text-align: right;\">\n",
       "      <th></th>\n",
       "      <th>CustomerId</th>\n",
       "      <th>CreditScore</th>\n",
       "      <th>Geography</th>\n",
       "      <th>Gender</th>\n",
       "      <th>Age</th>\n",
       "      <th>Tenure</th>\n",
       "      <th>Balance</th>\n",
       "      <th>NumOfProducts</th>\n",
       "      <th>HasCrCard</th>\n",
       "      <th>IsActiveMember</th>\n",
       "      <th>EstimatedSalary</th>\n",
       "      <th>Exited</th>\n",
       "    </tr>\n",
       "  </thead>\n",
       "  <tbody>\n",
       "    <tr>\n",
       "      <th>CustomerId</th>\n",
       "      <td>1.000000</td>\n",
       "      <td>0.005308</td>\n",
       "      <td>0.006516</td>\n",
       "      <td>-0.002641</td>\n",
       "      <td>0.009497</td>\n",
       "      <td>-0.014883</td>\n",
       "      <td>-0.012419</td>\n",
       "      <td>0.016972</td>\n",
       "      <td>-0.014025</td>\n",
       "      <td>0.001665</td>\n",
       "      <td>0.015271</td>\n",
       "      <td>-0.006248</td>\n",
       "    </tr>\n",
       "    <tr>\n",
       "      <th>CreditScore</th>\n",
       "      <td>0.005308</td>\n",
       "      <td>1.000000</td>\n",
       "      <td>0.007888</td>\n",
       "      <td>-0.002857</td>\n",
       "      <td>-0.003965</td>\n",
       "      <td>0.000842</td>\n",
       "      <td>0.006268</td>\n",
       "      <td>0.012238</td>\n",
       "      <td>-0.005458</td>\n",
       "      <td>0.025651</td>\n",
       "      <td>-0.001384</td>\n",
       "      <td>-0.027094</td>\n",
       "    </tr>\n",
       "    <tr>\n",
       "      <th>Geography</th>\n",
       "      <td>0.006516</td>\n",
       "      <td>0.007888</td>\n",
       "      <td>1.000000</td>\n",
       "      <td>0.004719</td>\n",
       "      <td>0.022812</td>\n",
       "      <td>0.003739</td>\n",
       "      <td>0.069408</td>\n",
       "      <td>0.003972</td>\n",
       "      <td>-0.008523</td>\n",
       "      <td>0.006724</td>\n",
       "      <td>-0.001369</td>\n",
       "      <td>0.035943</td>\n",
       "    </tr>\n",
       "    <tr>\n",
       "      <th>Gender</th>\n",
       "      <td>-0.002641</td>\n",
       "      <td>-0.002857</td>\n",
       "      <td>0.004719</td>\n",
       "      <td>1.000000</td>\n",
       "      <td>-0.027544</td>\n",
       "      <td>0.014733</td>\n",
       "      <td>0.012087</td>\n",
       "      <td>-0.021859</td>\n",
       "      <td>0.005766</td>\n",
       "      <td>0.022544</td>\n",
       "      <td>-0.008112</td>\n",
       "      <td>-0.106512</td>\n",
       "    </tr>\n",
       "    <tr>\n",
       "      <th>Age</th>\n",
       "      <td>0.009497</td>\n",
       "      <td>-0.003965</td>\n",
       "      <td>0.022812</td>\n",
       "      <td>-0.027544</td>\n",
       "      <td>1.000000</td>\n",
       "      <td>-0.009997</td>\n",
       "      <td>0.028308</td>\n",
       "      <td>-0.030680</td>\n",
       "      <td>-0.011721</td>\n",
       "      <td>0.085472</td>\n",
       "      <td>-0.007201</td>\n",
       "      <td>0.285323</td>\n",
       "    </tr>\n",
       "    <tr>\n",
       "      <th>Tenure</th>\n",
       "      <td>-0.014883</td>\n",
       "      <td>0.000842</td>\n",
       "      <td>0.003739</td>\n",
       "      <td>0.014733</td>\n",
       "      <td>-0.009997</td>\n",
       "      <td>1.000000</td>\n",
       "      <td>-0.012254</td>\n",
       "      <td>0.013444</td>\n",
       "      <td>0.022583</td>\n",
       "      <td>-0.028362</td>\n",
       "      <td>0.007784</td>\n",
       "      <td>-0.014001</td>\n",
       "    </tr>\n",
       "    <tr>\n",
       "      <th>Balance</th>\n",
       "      <td>-0.012419</td>\n",
       "      <td>0.006268</td>\n",
       "      <td>0.069408</td>\n",
       "      <td>0.012087</td>\n",
       "      <td>0.028308</td>\n",
       "      <td>-0.012254</td>\n",
       "      <td>1.000000</td>\n",
       "      <td>-0.304180</td>\n",
       "      <td>-0.014858</td>\n",
       "      <td>-0.010084</td>\n",
       "      <td>0.012797</td>\n",
       "      <td>0.118533</td>\n",
       "    </tr>\n",
       "    <tr>\n",
       "      <th>NumOfProducts</th>\n",
       "      <td>0.016972</td>\n",
       "      <td>0.012238</td>\n",
       "      <td>0.003972</td>\n",
       "      <td>-0.021859</td>\n",
       "      <td>-0.030680</td>\n",
       "      <td>0.013444</td>\n",
       "      <td>-0.304180</td>\n",
       "      <td>1.000000</td>\n",
       "      <td>0.003183</td>\n",
       "      <td>0.009612</td>\n",
       "      <td>0.014204</td>\n",
       "      <td>-0.047820</td>\n",
       "    </tr>\n",
       "    <tr>\n",
       "      <th>HasCrCard</th>\n",
       "      <td>-0.014025</td>\n",
       "      <td>-0.005458</td>\n",
       "      <td>-0.008523</td>\n",
       "      <td>0.005766</td>\n",
       "      <td>-0.011721</td>\n",
       "      <td>0.022583</td>\n",
       "      <td>-0.014858</td>\n",
       "      <td>0.003183</td>\n",
       "      <td>1.000000</td>\n",
       "      <td>-0.011866</td>\n",
       "      <td>-0.009933</td>\n",
       "      <td>-0.007138</td>\n",
       "    </tr>\n",
       "    <tr>\n",
       "      <th>IsActiveMember</th>\n",
       "      <td>0.001665</td>\n",
       "      <td>0.025651</td>\n",
       "      <td>0.006724</td>\n",
       "      <td>0.022544</td>\n",
       "      <td>0.085472</td>\n",
       "      <td>-0.028362</td>\n",
       "      <td>-0.010084</td>\n",
       "      <td>0.009612</td>\n",
       "      <td>-0.011866</td>\n",
       "      <td>1.000000</td>\n",
       "      <td>-0.011421</td>\n",
       "      <td>-0.156128</td>\n",
       "    </tr>\n",
       "    <tr>\n",
       "      <th>EstimatedSalary</th>\n",
       "      <td>0.015271</td>\n",
       "      <td>-0.001384</td>\n",
       "      <td>-0.001369</td>\n",
       "      <td>-0.008112</td>\n",
       "      <td>-0.007201</td>\n",
       "      <td>0.007784</td>\n",
       "      <td>0.012797</td>\n",
       "      <td>0.014204</td>\n",
       "      <td>-0.009933</td>\n",
       "      <td>-0.011421</td>\n",
       "      <td>1.000000</td>\n",
       "      <td>0.012097</td>\n",
       "    </tr>\n",
       "    <tr>\n",
       "      <th>Exited</th>\n",
       "      <td>-0.006248</td>\n",
       "      <td>-0.027094</td>\n",
       "      <td>0.035943</td>\n",
       "      <td>-0.106512</td>\n",
       "      <td>0.285323</td>\n",
       "      <td>-0.014001</td>\n",
       "      <td>0.118533</td>\n",
       "      <td>-0.047820</td>\n",
       "      <td>-0.007138</td>\n",
       "      <td>-0.156128</td>\n",
       "      <td>0.012097</td>\n",
       "      <td>1.000000</td>\n",
       "    </tr>\n",
       "  </tbody>\n",
       "</table>\n",
       "</div>"
      ],
      "text/plain": [
       "                 CustomerId  CreditScore  Geography    Gender       Age  \\\n",
       "CustomerId         1.000000     0.005308   0.006516 -0.002641  0.009497   \n",
       "CreditScore        0.005308     1.000000   0.007888 -0.002857 -0.003965   \n",
       "Geography          0.006516     0.007888   1.000000  0.004719  0.022812   \n",
       "Gender            -0.002641    -0.002857   0.004719  1.000000 -0.027544   \n",
       "Age                0.009497    -0.003965   0.022812 -0.027544  1.000000   \n",
       "Tenure            -0.014883     0.000842   0.003739  0.014733 -0.009997   \n",
       "Balance           -0.012419     0.006268   0.069408  0.012087  0.028308   \n",
       "NumOfProducts      0.016972     0.012238   0.003972 -0.021859 -0.030680   \n",
       "HasCrCard         -0.014025    -0.005458  -0.008523  0.005766 -0.011721   \n",
       "IsActiveMember     0.001665     0.025651   0.006724  0.022544  0.085472   \n",
       "EstimatedSalary    0.015271    -0.001384  -0.001369 -0.008112 -0.007201   \n",
       "Exited            -0.006248    -0.027094   0.035943 -0.106512  0.285323   \n",
       "\n",
       "                   Tenure   Balance  NumOfProducts  HasCrCard  IsActiveMember  \\\n",
       "CustomerId      -0.014883 -0.012419       0.016972  -0.014025        0.001665   \n",
       "CreditScore      0.000842  0.006268       0.012238  -0.005458        0.025651   \n",
       "Geography        0.003739  0.069408       0.003972  -0.008523        0.006724   \n",
       "Gender           0.014733  0.012087      -0.021859   0.005766        0.022544   \n",
       "Age             -0.009997  0.028308      -0.030680  -0.011721        0.085472   \n",
       "Tenure           1.000000 -0.012254       0.013444   0.022583       -0.028362   \n",
       "Balance         -0.012254  1.000000      -0.304180  -0.014858       -0.010084   \n",
       "NumOfProducts    0.013444 -0.304180       1.000000   0.003183        0.009612   \n",
       "HasCrCard        0.022583 -0.014858       0.003183   1.000000       -0.011866   \n",
       "IsActiveMember  -0.028362 -0.010084       0.009612  -0.011866        1.000000   \n",
       "EstimatedSalary  0.007784  0.012797       0.014204  -0.009933       -0.011421   \n",
       "Exited          -0.014001  0.118533      -0.047820  -0.007138       -0.156128   \n",
       "\n",
       "                 EstimatedSalary    Exited  \n",
       "CustomerId              0.015271 -0.006248  \n",
       "CreditScore            -0.001384 -0.027094  \n",
       "Geography              -0.001369  0.035943  \n",
       "Gender                 -0.008112 -0.106512  \n",
       "Age                    -0.007201  0.285323  \n",
       "Tenure                  0.007784 -0.014001  \n",
       "Balance                 0.012797  0.118533  \n",
       "NumOfProducts           0.014204 -0.047820  \n",
       "HasCrCard              -0.009933 -0.007138  \n",
       "IsActiveMember         -0.011421 -0.156128  \n",
       "EstimatedSalary         1.000000  0.012097  \n",
       "Exited                  0.012097  1.000000  "
      ]
     },
     "execution_count": 57,
     "metadata": {},
     "output_type": "execute_result"
    }
   ],
   "source": [
    "df.corr()"
   ]
  }
 ],
 "metadata": {
  "kaggle": {
   "accelerator": "none",
   "dataSources": [
    {
     "datasetId": 156197,
     "sourceId": 358170,
     "sourceType": "datasetVersion"
    }
   ],
   "dockerImageVersionId": 30886,
   "isGpuEnabled": false,
   "isInternetEnabled": true,
   "language": "python",
   "sourceType": "notebook"
  },
  "kernelspec": {
   "display_name": "Python 3",
   "language": "python",
   "name": "python3"
  },
  "language_info": {
   "codemirror_mode": {
    "name": "ipython",
    "version": 3
   },
   "file_extension": ".py",
   "mimetype": "text/x-python",
   "name": "python",
   "nbconvert_exporter": "python",
   "pygments_lexer": "ipython3",
   "version": "3.10.12"
  },
  "papermill": {
   "default_parameters": {},
   "duration": 17.925585,
   "end_time": "2025-04-10T10:34:44.341691",
   "environment_variables": {},
   "exception": null,
   "input_path": "__notebook__.ipynb",
   "output_path": "__notebook__.ipynb",
   "parameters": {},
   "start_time": "2025-04-10T10:34:26.416106",
   "version": "2.6.0"
  }
 },
 "nbformat": 4,
 "nbformat_minor": 5
}
